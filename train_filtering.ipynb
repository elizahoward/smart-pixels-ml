{
 "cells": [
  {
   "cell_type": "code",
   "execution_count": 1,
   "metadata": {},
   "outputs": [
    {
     "name": "stderr",
     "output_type": "stream",
     "text": [
      "2024-11-08 12:25:55.819053: I tensorflow/core/util/port.cc:113] oneDNN custom operations are on. You may see slightly different numerical results due to floating-point round-off errors from different computation orders. To turn them off, set the environment variable `TF_ENABLE_ONEDNN_OPTS=0`.\n",
      "2024-11-08 12:25:55.821878: I external/local_tsl/tsl/cuda/cudart_stub.cc:31] Could not find cuda drivers on your machine, GPU will not be used.\n",
      "2024-11-08 12:25:55.853491: E external/local_xla/xla/stream_executor/cuda/cuda_dnn.cc:9261] Unable to register cuDNN factory: Attempting to register factory for plugin cuDNN when one has already been registered\n",
      "2024-11-08 12:25:55.853537: E external/local_xla/xla/stream_executor/cuda/cuda_fft.cc:607] Unable to register cuFFT factory: Attempting to register factory for plugin cuFFT when one has already been registered\n",
      "2024-11-08 12:25:55.854551: E external/local_xla/xla/stream_executor/cuda/cuda_blas.cc:1515] Unable to register cuBLAS factory: Attempting to register factory for plugin cuBLAS when one has already been registered\n",
      "2024-11-08 12:25:55.860063: I external/local_tsl/tsl/cuda/cudart_stub.cc:31] Could not find cuda drivers on your machine, GPU will not be used.\n",
      "2024-11-08 12:25:55.860538: I tensorflow/core/platform/cpu_feature_guard.cc:182] This TensorFlow binary is optimized to use available CPU instructions in performance-critical operations.\n",
      "To enable the following instructions: AVX2 AVX512F AVX512_VNNI FMA, in other operations, rebuild TensorFlow with the appropriate compiler flags.\n",
      "2024-11-08 12:25:56.529812: W tensorflow/compiler/tf2tensorrt/utils/py_utils.cc:38] TF-TRT Warning: Could not find TensorRT\n",
      "/home/daq/venv/lib64/python3.9/site-packages/networkx/utils/backends.py:135: RuntimeWarning: networkx backend defined more than once: nx-loopback\n",
      "  backends.update(_get_backends(\"networkx.backends\"))\n"
     ]
    }
   ],
   "source": [
    "from Classes import FilterClusters"
   ]
  },
  {
   "cell_type": "code",
   "execution_count": 2,
   "metadata": {},
   "outputs": [
    {
     "name": "stderr",
     "output_type": "stream",
     "text": [
      "WARNING:root:Quantization is False in data generator. This may affect model performance.\n"
     ]
    },
    {
     "name": "stdout",
     "output_type": "stream",
     "text": [
      "[]\n",
      "--- Training generator 0.14863109588623047 seconds ---\n",
      "[]\n"
     ]
    },
    {
     "name": "stderr",
     "output_type": "stream",
     "text": [
      "WARNING:root:Quantization is False in data generator. This may affect model performance.\n",
      "2024-11-08 12:25:58.754903: E external/local_xla/xla/stream_executor/cuda/cuda_driver.cc:274] failed call to cuInit: CUDA_ERROR_NO_DEVICE: no CUDA-capable device is detected\n"
     ]
    },
    {
     "name": "stdout",
     "output_type": "stream",
     "text": [
      "--- Validation generator 0.12972736358642578 seconds ---\n",
      "Model: \"model\"\n",
      "_________________________________________________________________\n",
      " Layer (type)                Output Shape              Param #   \n",
      "=================================================================\n",
      " input_1 (InputLayer)        [(None, 13, 21, 1)]       0         \n",
      "                                                                 \n",
      " reshape (Reshape)           (None, 13, 21)            0         \n",
      "                                                                 \n",
      " lambda (Lambda)             (None, 21)                0         \n",
      "                                                                 \n",
      " q_dense (QDense)            (None, 1)                 22        \n",
      "                                                                 \n",
      " dense (Dense)               (None, 1)                 2         \n",
      "                                                                 \n",
      "=================================================================\n",
      "Total params: 24 (96.00 Byte)\n",
      "Trainable params: 24 (96.00 Byte)\n",
      "Non-trainable params: 0 (0.00 Byte)\n",
      "_________________________________________________________________\n",
      "--- Model create and compile 0.38729357719421387 seconds ---\n",
      "Compiling model with learning rate: 0.001\n"
     ]
    }
   ],
   "source": [
    "data_path = \"/home/elizahoward/cmspix28-mc-sim/MuC_Output/\"\n",
    "model = FilterClusters(use_tf_records=True, \n",
    "                       tfrecords_dir_train=\"/home/elizahoward/smart-pixels-ml/ouput_filtering/tfrecords_train_bb9ced78\",\n",
    "                       tfrecords_dir_validation=\"/home/elizahoward/smart-pixels-ml/ouput_filtering/tfrecords_validation_bb9ced78\")#data_directory_path = data_path, muon_collider=True, include_y_local=False)"
   ]
  },
  {
   "cell_type": "code",
   "execution_count": null,
   "metadata": {},
   "outputs": [],
   "source": []
  },
  {
   "cell_type": "code",
   "execution_count": 3,
   "metadata": {},
   "outputs": [
    {
     "name": "stdout",
     "output_type": "stream",
     "text": [
      "Compiling model with learning rate: 0.02\n",
      "Epoch 1/5\n",
      "123/123 [==============================] - 15s 45ms/step - loss: 1.4046 - binary_accuracy: 0.8027 - val_loss: 1.9020 - val_binary_accuracy: 0.2512\n",
      "Epoch 2/5\n",
      "123/123 [==============================] - 5s 42ms/step - loss: 0.7139 - binary_accuracy: 0.7983 - val_loss: 1.5138 - val_binary_accuracy: 0.2512\n",
      "Epoch 3/5\n",
      "123/123 [==============================] - 5s 42ms/step - loss: 0.6789 - binary_accuracy: 0.7939 - val_loss: 1.3288 - val_binary_accuracy: 0.2512\n",
      "Epoch 4/5\n",
      "123/123 [==============================] - 5s 42ms/step - loss: 0.6696 - binary_accuracy: 0.7907 - val_loss: 1.2844 - val_binary_accuracy: 0.2512\n",
      "Epoch 5/5\n",
      "123/123 [==============================] - 5s 42ms/step - loss: 0.6716 - binary_accuracy: 0.7910 - val_loss: 1.2626 - val_binary_accuracy: 0.2512\n"
     ]
    }
   ],
   "source": [
    "model.compileModel(learning_rate=0.02)\n",
    "model.runTraining(epochs=5)\n",
    "#model.loadWeights(\"/home/elizahoward/smart-pixels-ml/weights/weightsBIBsigPrediction.hdf5\")\n",
    "#model.loadWeights(\"/home/elizahoward/smart-pixels-ml/weights/weightsSigPrediction.hdf5\")"
   ]
  },
  {
   "cell_type": "code",
   "execution_count": 4,
   "metadata": {},
   "outputs": [
    {
     "name": "stdout",
     "output_type": "stream",
     "text": [
      "29/29 [==============================] - 1s 38ms/step\n"
     ]
    },
    {
     "name": "stderr",
     "output_type": "stream",
     "text": [
      "100%|██████████| 29/29 [00:00<00:00, 30.89it/s]"
     ]
    },
    {
     "name": "stdout",
     "output_type": "stream",
     "text": [
      "\n",
      "Signal Efficiency: 100.0%\n",
      "Background Rejection: 0.0%\n",
      "\n",
      "Overall Accuracy: 25.119104335397807%\n",
      "Fraction of Data that are Signal: 25.119104335397807%\n",
      "\n",
      "Total number of clusters: 8396\n"
     ]
    },
    {
     "name": "stderr",
     "output_type": "stream",
     "text": [
      "\n"
     ]
    }
   ],
   "source": [
    "#model.loadWeights(\"/home/elizahoward/smart-pixels-ml/ouput_prediction/weights/weights.03-t3.61-v3.20.hdf5\")\n",
    "model.checkAccuracy()"
   ]
  },
  {
   "cell_type": "code",
   "execution_count": 5,
   "metadata": {},
   "outputs": [
    {
     "name": "stdout",
     "output_type": "stream",
     "text": [
      "  1/123 [..............................] - ETA: 9s"
     ]
    },
    {
     "name": "stdout",
     "output_type": "stream",
     "text": [
      "123/123 [==============================] - 4s 34ms/step\n"
     ]
    },
    {
     "name": "stderr",
     "output_type": "stream",
     "text": [
      "100%|██████████| 123/123 [00:03<00:00, 31.11it/s]\n"
     ]
    },
    {
     "name": "stdout",
     "output_type": "stream",
     "text": [
      "\n",
      "Signal Efficiency: 99.99408073872381%\n",
      "Background Rejection: 0.00809094219021805%\n",
      "\n",
      "Overall Accuracy: 40.60029317761277%\n",
      "Fraction of Data that are Signal: 40.59789008242616%\n",
      "\n",
      "Total number of clusters: 41613\n"
     ]
    }
   ],
   "source": [
    "model.checkAccuracyTrainingData()"
   ]
  },
  {
   "cell_type": "code",
   "execution_count": null,
   "metadata": {},
   "outputs": [],
   "source": []
  }
 ],
 "metadata": {
  "kernelspec": {
   "display_name": "venv",
   "language": "python",
   "name": "venv"
  },
  "language_info": {
   "codemirror_mode": {
    "name": "ipython",
    "version": 3
   },
   "file_extension": ".py",
   "mimetype": "text/x-python",
   "name": "python",
   "nbconvert_exporter": "python",
   "pygments_lexer": "ipython3",
   "version": "3.9.18"
  }
 },
 "nbformat": 4,
 "nbformat_minor": 2
}
