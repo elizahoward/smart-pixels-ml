{
 "cells": [
  {
   "cell_type": "code",
   "execution_count": 1,
   "metadata": {},
   "outputs": [
    {
     "name": "stderr",
     "output_type": "stream",
     "text": [
      "2024-10-29 14:03:03.762670: I tensorflow/core/util/port.cc:113] oneDNN custom operations are on. You may see slightly different numerical results due to floating-point round-off errors from different computation orders. To turn them off, set the environment variable `TF_ENABLE_ONEDNN_OPTS=0`.\n",
      "2024-10-29 14:03:03.765451: I external/local_tsl/tsl/cuda/cudart_stub.cc:31] Could not find cuda drivers on your machine, GPU will not be used.\n",
      "2024-10-29 14:03:03.797938: E external/local_xla/xla/stream_executor/cuda/cuda_dnn.cc:9261] Unable to register cuDNN factory: Attempting to register factory for plugin cuDNN when one has already been registered\n",
      "2024-10-29 14:03:03.797961: E external/local_xla/xla/stream_executor/cuda/cuda_fft.cc:607] Unable to register cuFFT factory: Attempting to register factory for plugin cuFFT when one has already been registered\n",
      "2024-10-29 14:03:03.798906: E external/local_xla/xla/stream_executor/cuda/cuda_blas.cc:1515] Unable to register cuBLAS factory: Attempting to register factory for plugin cuBLAS when one has already been registered\n",
      "2024-10-29 14:03:03.804195: I external/local_tsl/tsl/cuda/cudart_stub.cc:31] Could not find cuda drivers on your machine, GPU will not be used.\n",
      "2024-10-29 14:03:03.804623: I tensorflow/core/platform/cpu_feature_guard.cc:182] This TensorFlow binary is optimized to use available CPU instructions in performance-critical operations.\n",
      "To enable the following instructions: AVX2 AVX512F AVX512_VNNI FMA, in other operations, rebuild TensorFlow with the appropriate compiler flags.\n",
      "2024-10-29 14:03:04.454149: W tensorflow/compiler/tf2tensorrt/utils/py_utils.cc:38] TF-TRT Warning: Could not find TensorRT\n",
      "/home/daq/venv/lib64/python3.9/site-packages/networkx/utils/backends.py:135: RuntimeWarning: networkx backend defined more than once: nx-loopback\n",
      "  backends.update(_get_backends(\"networkx.backends\"))\n"
     ]
    }
   ],
   "source": [
    "from Classes import FilterClusters"
   ]
  },
  {
   "cell_type": "code",
   "execution_count": 11,
   "metadata": {},
   "outputs": [
    {
     "name": "stdout",
     "output_type": "stream",
     "text": [
      "['/home/elizahoward/cmspix28-mc-sim/MuC_Output/recon3Dbib0.parquet', '/home/elizahoward/cmspix28-mc-sim/MuC_Output/recon3Dbib1.parquet', '/home/elizahoward/cmspix28-mc-sim/MuC_Output/recon3Dbib10.parquet', '/home/elizahoward/cmspix28-mc-sim/MuC_Output/recon3Dbib11.parquet', '/home/elizahoward/cmspix28-mc-sim/MuC_Output/recon3Dbib12.parquet', '/home/elizahoward/cmspix28-mc-sim/MuC_Output/recon3Dbib13.parquet', '/home/elizahoward/cmspix28-mc-sim/MuC_Output/recon3Dbib14.parquet', '/home/elizahoward/cmspix28-mc-sim/MuC_Output/recon3Dbib15.parquet', '/home/elizahoward/cmspix28-mc-sim/MuC_Output/recon3Dbib16.parquet', '/home/elizahoward/cmspix28-mc-sim/MuC_Output/recon3Dbib17.parquet', '/home/elizahoward/cmspix28-mc-sim/MuC_Output/recon3Dbib18.parquet', '/home/elizahoward/cmspix28-mc-sim/MuC_Output/recon3Dbib19.parquet', '/home/elizahoward/cmspix28-mc-sim/MuC_Output/recon3Dbib2.parquet', '/home/elizahoward/cmspix28-mc-sim/MuC_Output/recon3Dbib20.parquet', '/home/elizahoward/cmspix28-mc-sim/MuC_Output/recon3Dbib21.parquet', '/home/elizahoward/cmspix28-mc-sim/MuC_Output/recon3Dbib22.parquet', '/home/elizahoward/cmspix28-mc-sim/MuC_Output/recon3Dbib23.parquet', '/home/elizahoward/cmspix28-mc-sim/MuC_Output/recon3Dbib24.parquet', '/home/elizahoward/cmspix28-mc-sim/MuC_Output/recon3Dbib25.parquet', '/home/elizahoward/cmspix28-mc-sim/MuC_Output/recon3Dbib26.parquet', '/home/elizahoward/cmspix28-mc-sim/MuC_Output/recon3Dbib27.parquet', '/home/elizahoward/cmspix28-mc-sim/MuC_Output/recon3Dbib28.parquet', '/home/elizahoward/cmspix28-mc-sim/MuC_Output/recon3Dbib29.parquet', '/home/elizahoward/cmspix28-mc-sim/MuC_Output/recon3Dbib3.parquet', '/home/elizahoward/cmspix28-mc-sim/MuC_Output/recon3Dbib30.parquet', '/home/elizahoward/cmspix28-mc-sim/MuC_Output/recon3Dbib31.parquet', '/home/elizahoward/cmspix28-mc-sim/MuC_Output/recon3Dbib32.parquet', '/home/elizahoward/cmspix28-mc-sim/MuC_Output/recon3Dbib33.parquet', '/home/elizahoward/cmspix28-mc-sim/MuC_Output/recon3Dbib34.parquet', '/home/elizahoward/cmspix28-mc-sim/MuC_Output/recon3Dbib35.parquet', '/home/elizahoward/cmspix28-mc-sim/MuC_Output/recon3Dbib36.parquet', '/home/elizahoward/cmspix28-mc-sim/MuC_Output/recon3Dbib37.parquet', '/home/elizahoward/cmspix28-mc-sim/MuC_Output/recon3Dbib38.parquet', '/home/elizahoward/cmspix28-mc-sim/MuC_Output/recon3Dbib39.parquet', '/home/elizahoward/cmspix28-mc-sim/MuC_Output/recon3Dbib4.parquet', '/home/elizahoward/cmspix28-mc-sim/MuC_Output/recon3Dbib40.parquet', '/home/elizahoward/cmspix28-mc-sim/MuC_Output/recon3Dbib41.parquet', '/home/elizahoward/cmspix28-mc-sim/MuC_Output/recon3Dbib42.parquet', '/home/elizahoward/cmspix28-mc-sim/MuC_Output/recon3Dbib43.parquet', '/home/elizahoward/cmspix28-mc-sim/MuC_Output/recon3Dbib44.parquet', '/home/elizahoward/cmspix28-mc-sim/MuC_Output/recon3Dbib45.parquet', '/home/elizahoward/cmspix28-mc-sim/MuC_Output/recon3Dbib46.parquet', '/home/elizahoward/cmspix28-mc-sim/MuC_Output/recon3Dbib47.parquet', '/home/elizahoward/cmspix28-mc-sim/MuC_Output/recon3Dbib48.parquet', '/home/elizahoward/cmspix28-mc-sim/MuC_Output/recon3Dbib49.parquet', '/home/elizahoward/cmspix28-mc-sim/MuC_Output/recon3Dbib5.parquet', '/home/elizahoward/cmspix28-mc-sim/MuC_Output/recon3Dbib50.parquet', '/home/elizahoward/cmspix28-mc-sim/MuC_Output/recon3Dbib51.parquet', '/home/elizahoward/cmspix28-mc-sim/MuC_Output/recon3Dbib52.parquet', '/home/elizahoward/cmspix28-mc-sim/MuC_Output/recon3Dbib53.parquet', '/home/elizahoward/cmspix28-mc-sim/MuC_Output/recon3Dbib54.parquet', '/home/elizahoward/cmspix28-mc-sim/MuC_Output/recon3Dbib55.parquet', '/home/elizahoward/cmspix28-mc-sim/MuC_Output/recon3Dbib56.parquet', '/home/elizahoward/cmspix28-mc-sim/MuC_Output/recon3Dbib57.parquet', '/home/elizahoward/cmspix28-mc-sim/MuC_Output/recon3Dbib58.parquet', '/home/elizahoward/cmspix28-mc-sim/MuC_Output/recon3Dbib59.parquet', '/home/elizahoward/cmspix28-mc-sim/MuC_Output/recon3Dbib6.parquet', '/home/elizahoward/cmspix28-mc-sim/MuC_Output/recon3Dbib60.parquet', '/home/elizahoward/cmspix28-mc-sim/MuC_Output/recon3Dbib61.parquet', '/home/elizahoward/cmspix28-mc-sim/MuC_Output/recon3Dbib62.parquet', '/home/elizahoward/cmspix28-mc-sim/MuC_Output/recon3Dbib63.parquet', '/home/elizahoward/cmspix28-mc-sim/MuC_Output/recon3Dbib64.parquet', '/home/elizahoward/cmspix28-mc-sim/MuC_Output/recon3Dsig0.parquet', '/home/elizahoward/cmspix28-mc-sim/MuC_Output/recon3Dsig1.parquet', '/home/elizahoward/cmspix28-mc-sim/MuC_Output/recon3Dsig10.parquet', '/home/elizahoward/cmspix28-mc-sim/MuC_Output/recon3Dsig11.parquet', '/home/elizahoward/cmspix28-mc-sim/MuC_Output/recon3Dsig12.parquet', '/home/elizahoward/cmspix28-mc-sim/MuC_Output/recon3Dsig13.parquet', '/home/elizahoward/cmspix28-mc-sim/MuC_Output/recon3Dsig14.parquet', '/home/elizahoward/cmspix28-mc-sim/MuC_Output/recon3Dsig15.parquet', '/home/elizahoward/cmspix28-mc-sim/MuC_Output/recon3Dsig16.parquet', '/home/elizahoward/cmspix28-mc-sim/MuC_Output/recon3Dsig17.parquet', '/home/elizahoward/cmspix28-mc-sim/MuC_Output/recon3Dsig18.parquet', '/home/elizahoward/cmspix28-mc-sim/MuC_Output/recon3Dsig19.parquet', '/home/elizahoward/cmspix28-mc-sim/MuC_Output/recon3Dsig2.parquet', '/home/elizahoward/cmspix28-mc-sim/MuC_Output/recon3Dsig20.parquet', '/home/elizahoward/cmspix28-mc-sim/MuC_Output/recon3Dsig21.parquet', '/home/elizahoward/cmspix28-mc-sim/MuC_Output/recon3Dsig22.parquet', '/home/elizahoward/cmspix28-mc-sim/MuC_Output/recon3Dsig23.parquet', '/home/elizahoward/cmspix28-mc-sim/MuC_Output/recon3Dsig24.parquet', '/home/elizahoward/cmspix28-mc-sim/MuC_Output/recon3Dsig25.parquet', '/home/elizahoward/cmspix28-mc-sim/MuC_Output/recon3Dsig26.parquet', '/home/elizahoward/cmspix28-mc-sim/MuC_Output/recon3Dsig27.parquet', '/home/elizahoward/cmspix28-mc-sim/MuC_Output/recon3Dsig28.parquet', '/home/elizahoward/cmspix28-mc-sim/MuC_Output/recon3Dsig29.parquet', '/home/elizahoward/cmspix28-mc-sim/MuC_Output/recon3Dsig3.parquet', '/home/elizahoward/cmspix28-mc-sim/MuC_Output/recon3Dsig30.parquet', '/home/elizahoward/cmspix28-mc-sim/MuC_Output/recon3Dsig31.parquet', '/home/elizahoward/cmspix28-mc-sim/MuC_Output/recon3Dsig32.parquet', '/home/elizahoward/cmspix28-mc-sim/MuC_Output/recon3Dsig33.parquet', '/home/elizahoward/cmspix28-mc-sim/MuC_Output/recon3Dsig34.parquet', '/home/elizahoward/cmspix28-mc-sim/MuC_Output/recon3Dsig35.parquet', '/home/elizahoward/cmspix28-mc-sim/MuC_Output/recon3Dsig36.parquet', '/home/elizahoward/cmspix28-mc-sim/MuC_Output/recon3Dsig37.parquet', '/home/elizahoward/cmspix28-mc-sim/MuC_Output/recon3Dsig38.parquet', '/home/elizahoward/cmspix28-mc-sim/MuC_Output/recon3Dsig39.parquet', '/home/elizahoward/cmspix28-mc-sim/MuC_Output/recon3Dsig4.parquet', '/home/elizahoward/cmspix28-mc-sim/MuC_Output/recon3Dsig40.parquet', '/home/elizahoward/cmspix28-mc-sim/MuC_Output/recon3Dsig41.parquet', '/home/elizahoward/cmspix28-mc-sim/MuC_Output/recon3Dsig42.parquet', '/home/elizahoward/cmspix28-mc-sim/MuC_Output/recon3Dsig43.parquet', '/home/elizahoward/cmspix28-mc-sim/MuC_Output/recon3Dsig44.parquet', '/home/elizahoward/cmspix28-mc-sim/MuC_Output/recon3Dsig45.parquet', '/home/elizahoward/cmspix28-mc-sim/MuC_Output/recon3Dsig46.parquet', '/home/elizahoward/cmspix28-mc-sim/MuC_Output/recon3Dsig47.parquet', '/home/elizahoward/cmspix28-mc-sim/MuC_Output/recon3Dsig48.parquet', '/home/elizahoward/cmspix28-mc-sim/MuC_Output/recon3Dsig49.parquet', '/home/elizahoward/cmspix28-mc-sim/MuC_Output/recon3Dsig5.parquet', '/home/elizahoward/cmspix28-mc-sim/MuC_Output/recon3Dsig50.parquet', '/home/elizahoward/cmspix28-mc-sim/MuC_Output/recon3Dsig51.parquet', '/home/elizahoward/cmspix28-mc-sim/MuC_Output/recon3Dsig52.parquet', '/home/elizahoward/cmspix28-mc-sim/MuC_Output/recon3Dsig53.parquet', '/home/elizahoward/cmspix28-mc-sim/MuC_Output/recon3Dsig54.parquet', '/home/elizahoward/cmspix28-mc-sim/MuC_Output/recon3Dsig55.parquet', '/home/elizahoward/cmspix28-mc-sim/MuC_Output/recon3Dsig56.parquet', '/home/elizahoward/cmspix28-mc-sim/MuC_Output/recon3Dsig57.parquet', '/home/elizahoward/cmspix28-mc-sim/MuC_Output/recon3Dsig58.parquet', '/home/elizahoward/cmspix28-mc-sim/MuC_Output/recon3Dsig59.parquet', '/home/elizahoward/cmspix28-mc-sim/MuC_Output/recon3Dsig6.parquet', '/home/elizahoward/cmspix28-mc-sim/MuC_Output/recon3Dsig60.parquet', '/home/elizahoward/cmspix28-mc-sim/MuC_Output/recon3Dsig61.parquet', '/home/elizahoward/cmspix28-mc-sim/MuC_Output/recon3Dsig62.parquet', '/home/elizahoward/cmspix28-mc-sim/MuC_Output/recon3Dsig63.parquet', '/home/elizahoward/cmspix28-mc-sim/MuC_Output/recon3Dsig64.parquet']\n",
      "Directory /home/elizahoward/smart-pixels-ml/ouput_filtering/tfrecords_train_5c4f482c is removed...\n"
     ]
    },
    {
     "name": "stderr",
     "output_type": "stream",
     "text": [
      "Processing Files...: 100%|██████████| 124/124 [00:30<00:00,  4.01it/s]\n",
      "Saving batches as TFRecords: 100%|██████████| 123/123 [00:14<00:00,  8.74it/s]\n",
      "WARNING:root:Quantization is False in data generator. This may affect model performance.\n"
     ]
    },
    {
     "name": "stdout",
     "output_type": "stream",
     "text": [
      "--- Training generator 45.24535393714905 seconds ---\n",
      "['/home/elizahoward/cmspix28-mc-sim/MuC_Output/recon3Dbib65.parquet', '/home/elizahoward/cmspix28-mc-sim/MuC_Output/recon3Dbib66.parquet', '/home/elizahoward/cmspix28-mc-sim/MuC_Output/recon3Dbib67.parquet', '/home/elizahoward/cmspix28-mc-sim/MuC_Output/recon3Dbib68.parquet', '/home/elizahoward/cmspix28-mc-sim/MuC_Output/recon3Dbib69.parquet', '/home/elizahoward/cmspix28-mc-sim/MuC_Output/recon3Dbib7.parquet', '/home/elizahoward/cmspix28-mc-sim/MuC_Output/recon3Dbib70.parquet', '/home/elizahoward/cmspix28-mc-sim/MuC_Output/recon3Dbib71.parquet', '/home/elizahoward/cmspix28-mc-sim/MuC_Output/recon3Dbib72.parquet', '/home/elizahoward/cmspix28-mc-sim/MuC_Output/recon3Dbib73.parquet', '/home/elizahoward/cmspix28-mc-sim/MuC_Output/recon3Dbib74.parquet', '/home/elizahoward/cmspix28-mc-sim/MuC_Output/recon3Dbib75.parquet', '/home/elizahoward/cmspix28-mc-sim/MuC_Output/recon3Dbib76.parquet', '/home/elizahoward/cmspix28-mc-sim/MuC_Output/recon3Dbib8.parquet', '/home/elizahoward/cmspix28-mc-sim/MuC_Output/recon3Dbib9.parquet', '/home/elizahoward/cmspix28-mc-sim/MuC_Output/recon3Dsig65.parquet', '/home/elizahoward/cmspix28-mc-sim/MuC_Output/recon3Dsig66.parquet', '/home/elizahoward/cmspix28-mc-sim/MuC_Output/recon3Dsig67.parquet', '/home/elizahoward/cmspix28-mc-sim/MuC_Output/recon3Dsig68.parquet', '/home/elizahoward/cmspix28-mc-sim/MuC_Output/recon3Dsig69.parquet', '/home/elizahoward/cmspix28-mc-sim/MuC_Output/recon3Dsig7.parquet', '/home/elizahoward/cmspix28-mc-sim/MuC_Output/recon3Dsig70.parquet', '/home/elizahoward/cmspix28-mc-sim/MuC_Output/recon3Dsig71.parquet', '/home/elizahoward/cmspix28-mc-sim/MuC_Output/recon3Dsig72.parquet', '/home/elizahoward/cmspix28-mc-sim/MuC_Output/recon3Dsig73.parquet', '/home/elizahoward/cmspix28-mc-sim/MuC_Output/recon3Dsig74.parquet', '/home/elizahoward/cmspix28-mc-sim/MuC_Output/recon3Dsig75.parquet', '/home/elizahoward/cmspix28-mc-sim/MuC_Output/recon3Dsig76.parquet', '/home/elizahoward/cmspix28-mc-sim/MuC_Output/recon3Dsig8.parquet', '/home/elizahoward/cmspix28-mc-sim/MuC_Output/recon3Dsig9.parquet']\n",
      "Directory /home/elizahoward/smart-pixels-ml/ouput_filtering/tfrecords_validation_5c4f482c is removed...\n"
     ]
    },
    {
     "name": "stderr",
     "output_type": "stream",
     "text": [
      "Processing Files...: 100%|██████████| 30/30 [00:07<00:00,  3.95it/s]\n",
      "Saving batches as TFRecords: 100%|██████████| 29/29 [00:03<00:00,  8.83it/s]\n",
      "WARNING:root:Quantization is False in data generator. This may affect model performance.\n"
     ]
    },
    {
     "name": "stdout",
     "output_type": "stream",
     "text": [
      "--- Validation generator 11.106162548065186 seconds ---\n",
      "Model: \"model_1\"\n",
      "__________________________________________________________________________________________________\n",
      " Layer (type)                Output Shape                 Param #   Connected to                  \n",
      "==================================================================================================\n",
      " X_input (InputLayer)        [(None, 13, 21, 2)]          0         []                            \n",
      "                                                                                                  \n",
      " q_activation_1 (QActivatio  (None, 13, 21, 2)            0         ['X_input[0][0]']             \n",
      " n)                                                                                               \n",
      "                                                                                                  \n",
      " flatten_1 (Flatten)         (None, 546)                  0         ['q_activation_1[0][0]']      \n",
      "                                                                                                  \n",
      " y_local_input (InputLayer)  [(None, 1)]                  0         []                            \n",
      "                                                                                                  \n",
      " concatenate (Concatenate)   (None, 547)                  0         ['flatten_1[0][0]',           \n",
      "                                                                     'y_local_input[0][0]']       \n",
      "                                                                                                  \n",
      " q_dense_1 (QDense)          (None, 1)                    548       ['concatenate[0][0]']         \n",
      "                                                                                                  \n",
      "==================================================================================================\n",
      "Total params: 548 (2.14 KB)\n",
      "Trainable params: 548 (2.14 KB)\n",
      "Non-trainable params: 0 (0.00 Byte)\n",
      "__________________________________________________________________________________________________\n",
      "--- Model create and compile 0.08452296257019043 seconds ---\n",
      "Compiling model with learning rate: 0.001\n"
     ]
    }
   ],
   "source": [
    "data_path = \"/home/elizahoward/cmspix28-mc-sim/MuC_Output/\"\n",
    "model = FilterClusters(data_directory_path = data_path, muon_collider=True, include_y_local=True)"
   ]
  },
  {
   "cell_type": "code",
   "execution_count": 17,
   "metadata": {},
   "outputs": [
    {
     "name": "stdout",
     "output_type": "stream",
     "text": [
      "Compiling model with learning rate: 0.0001\n",
      "Epoch 1/10\n",
      "123/123 [==============================] - 7s 48ms/step - loss: 0.6237 - binary_accuracy: 0.6763 - val_loss: 0.6224 - val_binary_accuracy: 0.6679\n",
      "Epoch 2/10\n",
      "123/123 [==============================] - 6s 47ms/step - loss: 0.6229 - binary_accuracy: 0.6764 - val_loss: 0.6354 - val_binary_accuracy: 0.6595\n",
      "Epoch 3/10\n",
      "123/123 [==============================] - 6s 46ms/step - loss: 0.6235 - binary_accuracy: 0.6765 - val_loss: 0.6349 - val_binary_accuracy: 0.6598\n",
      "Epoch 4/10\n",
      "123/123 [==============================] - 6s 46ms/step - loss: 0.6244 - binary_accuracy: 0.6768 - val_loss: 0.6356 - val_binary_accuracy: 0.6602\n",
      "Epoch 5/10\n",
      "123/123 [==============================] - 6s 46ms/step - loss: 0.6242 - binary_accuracy: 0.6777 - val_loss: 0.6344 - val_binary_accuracy: 0.6606\n",
      "Epoch 6/10\n",
      "123/123 [==============================] - 6s 46ms/step - loss: 0.6243 - binary_accuracy: 0.6780 - val_loss: 0.6327 - val_binary_accuracy: 0.6625\n",
      "Epoch 7/10\n",
      "123/123 [==============================] - 6s 46ms/step - loss: 0.6237 - binary_accuracy: 0.6785 - val_loss: 0.6366 - val_binary_accuracy: 0.6578\n",
      "Epoch 8/10\n",
      "123/123 [==============================] - 6s 47ms/step - loss: 0.6268 - binary_accuracy: 0.6749 - val_loss: 0.6358 - val_binary_accuracy: 0.6585\n",
      "Epoch 9/10\n",
      "123/123 [==============================] - 6s 46ms/step - loss: 0.6273 - binary_accuracy: 0.6758 - val_loss: 0.6362 - val_binary_accuracy: 0.6578\n",
      "Epoch 10/10\n",
      "123/123 [==============================] - 6s 46ms/step - loss: 0.6265 - binary_accuracy: 0.6779 - val_loss: 0.6389 - val_binary_accuracy: 0.6552\n"
     ]
    }
   ],
   "source": [
    "model.compileModel(learning_rate=0.0001)\n",
    "model.runTraining(epochs=10)\n",
    "#model.loadWeights(\"/home/elizahoward/smart-pixels-ml/weights/weightsBIBsigPrediction.hdf5\")\n",
    "#model.loadWeights(\"/home/elizahoward/smart-pixels-ml/weights/weightsSigPrediction.hdf5\")"
   ]
  },
  {
   "cell_type": "code",
   "execution_count": 16,
   "metadata": {},
   "outputs": [
    {
     "name": "stdout",
     "output_type": "stream",
     "text": [
      "29/29 [==============================] - 1s 41ms/step\n"
     ]
    },
    {
     "name": "stderr",
     "output_type": "stream",
     "text": [
      "100%|██████████| 29/29 [00:01<00:00, 27.97it/s]\n"
     ]
    },
    {
     "name": "stdout",
     "output_type": "stream",
     "text": [
      "\n",
      "Signal Efficiency: 70.98150782361309%\n",
      "Background Rejection: 63.559726419596%\n",
      "\n",
      "Overall Accuracy: 65.4240114340162%\n",
      "Fraction of Data that are Signal: 25.119104335397807%\n",
      "\n",
      "Total number of clusters: 8396\n"
     ]
    }
   ],
   "source": [
    "#model.loadWeights(\"/home/elizahoward/smart-pixels-ml/ouput_prediction/weights/weights.03-t3.61-v3.20.hdf5\")\n",
    "model.checkAccuracy()"
   ]
  },
  {
   "cell_type": "code",
   "execution_count": null,
   "metadata": {},
   "outputs": [],
   "source": []
  }
 ],
 "metadata": {
  "kernelspec": {
   "display_name": "venv",
   "language": "python",
   "name": "venv"
  },
  "language_info": {
   "codemirror_mode": {
    "name": "ipython",
    "version": 3
   },
   "file_extension": ".py",
   "mimetype": "text/x-python",
   "name": "python",
   "nbconvert_exporter": "python",
   "pygments_lexer": "ipython3",
   "version": "3.9.18"
  }
 },
 "nbformat": 4,
 "nbformat_minor": 2
}
