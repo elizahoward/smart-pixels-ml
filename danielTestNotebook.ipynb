{
 "cells": [
  {
   "cell_type": "markdown",
   "id": "da61eecb",
   "metadata": {},
   "source": [
    "Author: Daniel Abadjiev  \n",
    "&nbsp;&nbsp;&nbsp; with lots of help from Eliza  \n",
    "Date: June 3, 2025  \n",
    "Description: a notebook to test some stuff with smartpixels data and get a handle on the data format/machine learning general things.   \n",
    "\n",
    "Will partially follow Eliza's github, will also follow this tutorial https://www.tensorflow.org/tutorials/keras/classification"
   ]
  },
  {
   "cell_type": "code",
   "execution_count": 1,
   "id": "1ddae174",
   "metadata": {},
   "outputs": [
    {
     "name": "stderr",
     "output_type": "stream",
     "text": [
      "2025-06-06 11:13:35.191293: I tensorflow/core/util/port.cc:153] oneDNN custom operations are on. You may see slightly different numerical results due to floating-point round-off errors from different computation orders. To turn them off, set the environment variable `TF_ENABLE_ONEDNN_OPTS=0`.\n",
      "2025-06-06 11:13:35.191816: I external/local_xla/xla/tsl/cuda/cudart_stub.cc:32] Could not find cuda drivers on your machine, GPU will not be used.\n",
      "2025-06-06 11:13:35.194719: I external/local_xla/xla/tsl/cuda/cudart_stub.cc:32] Could not find cuda drivers on your machine, GPU will not be used.\n",
      "2025-06-06 11:13:35.203347: E external/local_xla/xla/stream_executor/cuda/cuda_fft.cc:467] Unable to register cuFFT factory: Attempting to register factory for plugin cuFFT when one has already been registered\n",
      "WARNING: All log messages before absl::InitializeLog() is called are written to STDERR\n",
      "E0000 00:00:1749226415.217863  626071 cuda_dnn.cc:8579] Unable to register cuDNN factory: Attempting to register factory for plugin cuDNN when one has already been registered\n",
      "E0000 00:00:1749226415.222221  626071 cuda_blas.cc:1407] Unable to register cuBLAS factory: Attempting to register factory for plugin cuBLAS when one has already been registered\n",
      "W0000 00:00:1749226415.233107  626071 computation_placer.cc:177] computation placer already registered. Please check linkage and avoid linking the same target more than once.\n",
      "W0000 00:00:1749226415.233120  626071 computation_placer.cc:177] computation placer already registered. Please check linkage and avoid linking the same target more than once.\n",
      "W0000 00:00:1749226415.233122  626071 computation_placer.cc:177] computation placer already registered. Please check linkage and avoid linking the same target more than once.\n",
      "W0000 00:00:1749226415.233123  626071 computation_placer.cc:177] computation placer already registered. Please check linkage and avoid linking the same target more than once.\n",
      "2025-06-06 11:13:35.236852: I tensorflow/core/platform/cpu_feature_guard.cc:210] This TensorFlow binary is optimized to use available CPU instructions in performance-critical operations.\n",
      "To enable the following instructions: AVX2 AVX512F AVX512_VNNI FMA, in other operations, rebuild TensorFlow with the appropriate compiler flags.\n"
     ]
    }
   ],
   "source": [
    "from OptimizedDataGenerator4 import *\n",
    "import matplotlib.pyplot as plt\n",
    "import numpy as np\n",
    "import tensorflow as tf"
   ]
  },
  {
   "cell_type": "code",
   "execution_count": null,
   "id": "1c451b12",
   "metadata": {},
   "outputs": [
    {
     "name": "stderr",
     "output_type": "stream",
     "text": [
      "WARNING:root:Quantization is False in data generator. This may affect model performance.\n"
     ]
    },
    {
     "data": {
      "text/plain": [
       "365"
      ]
     },
     "execution_count": 7,
     "metadata": {},
     "output_type": "execute_result"
    }
   ],
   "source": [
    "data_dir = \"../smartpixML/MuonColliderSim/Simulation_Output/\";\n",
    "tf_dir = \"./tfRecDirDaniel\"\n",
    "labels_dir = \"./labelsDirDaniel\" #leftover \n",
    "dataFormatter = OptimizedDataGenerator(\n",
    "    tf_records_dir=tf_dir,\n",
    "    # data_directory_path=data_dir,\n",
    "    # file_type=\"parquet\",\n",
    "    load_records=True,\n",
    "    muon_collider=True,\n",
    "    x_feature_description=['cluster','x_profile','x_size'],\n",
    "    batch_size=3000,\n",
    "    filteringBIB=True\n",
    "    )\n",
    "dataFormatter.tfrecord_filenames.size"
   ]
  },
  {
   "cell_type": "code",
   "execution_count": 4,
   "id": "51ef4f18",
   "metadata": {},
   "outputs": [
    {
     "name": "stdout",
     "output_type": "stream",
     "text": [
      "<OptimizedDataGenerator4.OptimizedDataGenerator object at 0x7f11a0b7c880>\n",
      "['cluster', 'x_profile', 'x_size']\n"
     ]
    },
    {
     "ename": "AttributeError",
     "evalue": "'OptimizedDataGenerator' object has no attribute 'x_features'",
     "output_type": "error",
     "traceback": [
      "\u001b[0;31m---------------------------------------------------------------------------\u001b[0m",
      "\u001b[0;31mAttributeError\u001b[0m                            Traceback (most recent call last)",
      "Cell \u001b[0;32mIn[4], line 5\u001b[0m\n\u001b[1;32m      3\u001b[0m \u001b[38;5;28mprint\u001b[39m(dataFormatter\u001b[38;5;241m.\u001b[39mx_feature_description)\n\u001b[1;32m      4\u001b[0m \u001b[38;5;66;03m# dataFormatter.x_features['x_profile']\u001b[39;00m\n\u001b[0;32m----> 5\u001b[0m \u001b[38;5;28mprint\u001b[39m(\u001b[43mdataFormatter\u001b[49m\u001b[38;5;241;43m.\u001b[39;49m\u001b[43mx_features\u001b[49m[\u001b[38;5;124m'\u001b[39m\u001b[38;5;124mx_size\u001b[39m\u001b[38;5;124m'\u001b[39m])\n\u001b[1;32m      6\u001b[0m \u001b[38;5;28mprint\u001b[39m(np\u001b[38;5;241m.\u001b[39mshape(dataFormatter\u001b[38;5;241m.\u001b[39mx_features[\u001b[38;5;124m'\u001b[39m\u001b[38;5;124mx_size\u001b[39m\u001b[38;5;124m'\u001b[39m]))\n\u001b[1;32m      7\u001b[0m \u001b[38;5;28mprint\u001b[39m(dataFormatter\u001b[38;5;241m.\u001b[39mlabels)\n",
      "\u001b[0;31mAttributeError\u001b[0m: 'OptimizedDataGenerator' object has no attribute 'x_features'"
     ]
    }
   ],
   "source": [
    "print(dataFormatter)\n",
    "# print(dataFormatter.x_features)\n",
    "print(dataFormatter.x_feature_description)\n",
    "# dataFormatter.x_features['x_profile']\n",
    "print(dataFormatter.x_features['x_size'])\n",
    "print(np.shape(dataFormatter.x_features['x_size']))\n",
    "print(dataFormatter.labels)\n",
    "# plt.plot(dataFormatter.labels)\n",
    "model.fit(x=dataFormatter.x_features['x_size'],y=dataFormatter.labels)"
   ]
  },
  {
   "cell_type": "code",
   "execution_count": 2,
   "id": "5f48f3e9",
   "metadata": {},
   "outputs": [
    {
     "name": "stderr",
     "output_type": "stream",
     "text": [
      "WARNING:root:Quantization is False in data generator. This may affect model performance.\n",
      "WARNING:root:Quantization is False in data generator. This may affect model performance.\n"
     ]
    }
   ],
   "source": [
    "validation_dir = \"./tf_records1000Daniel/tfrecords_validation/\"\n",
    "train_dir = \"./tf_records1000Daniel/tfrecords_train/\"\n",
    "x_feature_description: list = ['z_global']\n",
    "trainODG = OptimizedDataGenerator(tf_records_dir=train_dir,load_records=True, x_feature_description=x_feature_description, muon_collider=True)\n",
    "validationODG = OptimizedDataGenerator(tf_records_dir=validation_dir,load_records=True, x_feature_description=x_feature_description, muon_collider=True)\n",
    "# trainODG._parse_tfrecord_fn()"
   ]
  },
  {
   "cell_type": "code",
   "execution_count": 10,
   "id": "fa6451cb",
   "metadata": {},
   "outputs": [
    {
     "name": "stdout",
     "output_type": "stream",
     "text": [
      "Epoch 1/10\n",
      "\u001b[1m60/60\u001b[0m \u001b[32m━━━━━━━━━━━━━━━━━━━━\u001b[0m\u001b[37m\u001b[0m \u001b[1m14s\u001b[0m 229ms/step - binary_accuracy: 0.4734 - loss: 0.7092\n",
      "Epoch 2/10\n",
      "\u001b[1m60/60\u001b[0m \u001b[32m━━━━━━━━━━━━━━━━━━━━\u001b[0m\u001b[37m\u001b[0m \u001b[1m14s\u001b[0m 229ms/step - binary_accuracy: 0.5095 - loss: 0.6956\n",
      "Epoch 3/10\n",
      "\u001b[1m60/60\u001b[0m \u001b[32m━━━━━━━━━━━━━━━━━━━━\u001b[0m\u001b[37m\u001b[0m \u001b[1m14s\u001b[0m 228ms/step - binary_accuracy: 0.5521 - loss: 0.6816\n",
      "Epoch 4/10\n",
      "\u001b[1m60/60\u001b[0m \u001b[32m━━━━━━━━━━━━━━━━━━━━\u001b[0m\u001b[37m\u001b[0m \u001b[1m14s\u001b[0m 228ms/step - binary_accuracy: 0.5830 - loss: 0.6706\n",
      "Epoch 5/10\n",
      "\u001b[1m60/60\u001b[0m \u001b[32m━━━━━━━━━━━━━━━━━━━━\u001b[0m\u001b[37m\u001b[0m \u001b[1m14s\u001b[0m 228ms/step - binary_accuracy: 0.5932 - loss: 0.6716\n",
      "Epoch 6/10\n",
      "\u001b[1m60/60\u001b[0m \u001b[32m━━━━━━━━━━━━━━━━━━━━\u001b[0m\u001b[37m\u001b[0m \u001b[1m14s\u001b[0m 229ms/step - binary_accuracy: 0.6147 - loss: 0.6608\n",
      "Epoch 7/10\n",
      "\u001b[1m60/60\u001b[0m \u001b[32m━━━━━━━━━━━━━━━━━━━━\u001b[0m\u001b[37m\u001b[0m \u001b[1m14s\u001b[0m 228ms/step - binary_accuracy: 0.6273 - loss: 0.6558\n",
      "Epoch 8/10\n",
      "\u001b[1m60/60\u001b[0m \u001b[32m━━━━━━━━━━━━━━━━━━━━\u001b[0m\u001b[37m\u001b[0m \u001b[1m14s\u001b[0m 230ms/step - binary_accuracy: 0.6257 - loss: 0.6590\n",
      "Epoch 9/10\n",
      "\u001b[1m60/60\u001b[0m \u001b[32m━━━━━━━━━━━━━━━━━━━━\u001b[0m\u001b[37m\u001b[0m \u001b[1m14s\u001b[0m 228ms/step - binary_accuracy: 0.6339 - loss: 0.6542\n",
      "Epoch 10/10\n",
      "\u001b[1m60/60\u001b[0m \u001b[32m━━━━━━━━━━━━━━━━━━━━\u001b[0m\u001b[37m\u001b[0m \u001b[1m14s\u001b[0m 229ms/step - binary_accuracy: 0.6226 - loss: 0.6599\n"
     ]
    }
   ],
   "source": [
    "\n",
    "model = tf.keras.Sequential([\n",
    "    tf.keras.layers.Input(shape=(None,1), name=\"z_global\"),\n",
    "    # tf.keras.layers.Dense(128,activation='relu'),\n",
    "    # tf.keras.layers.Dense(128,activation='relu'),\n",
    "    tf.keras.layers.Dense(10),\n",
    "    tf.keras.layers.Dense(1,activation='sigmoid')\n",
    "])\n",
    "# model.compile(optimizer='adam',\n",
    "#               loss=tf.keras.losses.SparseCategoricalCrossentropy(from_logits=True),\n",
    "#               metrics=['accuracy'])\n",
    "model.compile(optimizer='adam', loss='binary_crossentropy', metrics=['binary_accuracy'])\n",
    "callbacks=[]\n",
    "learningRates = [0.9,0.6,0.3,0.1,0.03,0.01,0.001,0.0001,0.00001,0.000001]\n",
    "callbacks.append(tf.keras.callbacks.LearningRateScheduler(lambda epoch : learningRates[epoch]))\n",
    "callbacks=[]\n",
    "history = model.fit(x=trainODG,callbacks=callbacks,epochs=10)"
   ]
  },
  {
   "cell_type": "code",
   "execution_count": 9,
   "id": "1d58a56b",
   "metadata": {},
   "outputs": [
    {
     "name": "stdout",
     "output_type": "stream",
     "text": [
      "\u001b[1m14/14\u001b[0m \u001b[32m━━━━━━━━━━━━━━━━━━━━\u001b[0m\u001b[37m\u001b[0m \u001b[1m3s\u001b[0m 232ms/step - binary_accuracy: 0.5740 - loss: 6.8665\n",
      "test accuracy: 0.4445267915725708\n"
     ]
    }
   ],
   "source": [
    "test_loss, test_acc = model.evaluate(validationODG)\n",
    "print(\"test accuracy: \"+str(test_acc))"
   ]
  },
  {
   "cell_type": "code",
   "execution_count": null,
   "id": "e990163c",
   "metadata": {},
   "outputs": [],
   "source": []
  }
 ],
 "metadata": {
  "kernelspec": {
   "display_name": "Python 3",
   "language": "python",
   "name": "python3"
  },
  "language_info": {
   "codemirror_mode": {
    "name": "ipython",
    "version": 3
   },
   "file_extension": ".py",
   "mimetype": "text/x-python",
   "name": "python",
   "nbconvert_exporter": "python",
   "pygments_lexer": "ipython3",
   "version": "3.9.21"
  }
 },
 "nbformat": 4,
 "nbformat_minor": 5
}
