{
 "cells": [
  {
   "cell_type": "code",
   "execution_count": 1,
   "id": "4bf60d5a",
   "metadata": {},
   "outputs": [
    {
     "name": "stderr",
     "output_type": "stream",
     "text": [
      "2025-06-12 17:42:41.306293: I tensorflow/core/util/port.cc:153] oneDNN custom operations are on. You may see slightly different numerical results due to floating-point round-off errors from different computation orders. To turn them off, set the environment variable `TF_ENABLE_ONEDNN_OPTS=0`.\n",
      "2025-06-12 17:42:41.318482: E external/local_xla/xla/stream_executor/cuda/cuda_fft.cc:467] Unable to register cuFFT factory: Attempting to register factory for plugin cuFFT when one has already been registered\n",
      "WARNING: All log messages before absl::InitializeLog() is called are written to STDERR\n",
      "E0000 00:00:1749768161.333264 1107550 cuda_dnn.cc:8579] Unable to register cuDNN factory: Attempting to register factory for plugin cuDNN when one has already been registered\n",
      "E0000 00:00:1749768161.337890 1107550 cuda_blas.cc:1407] Unable to register cuBLAS factory: Attempting to register factory for plugin cuBLAS when one has already been registered\n",
      "W0000 00:00:1749768161.348788 1107550 computation_placer.cc:177] computation placer already registered. Please check linkage and avoid linking the same target more than once.\n",
      "W0000 00:00:1749768161.348802 1107550 computation_placer.cc:177] computation placer already registered. Please check linkage and avoid linking the same target more than once.\n",
      "W0000 00:00:1749768161.348804 1107550 computation_placer.cc:177] computation placer already registered. Please check linkage and avoid linking the same target more than once.\n",
      "W0000 00:00:1749768161.348805 1107550 computation_placer.cc:177] computation placer already registered. Please check linkage and avoid linking the same target more than once.\n",
      "2025-06-12 17:42:41.352591: I tensorflow/core/platform/cpu_feature_guard.cc:210] This TensorFlow binary is optimized to use available CPU instructions in performance-critical operations.\n",
      "To enable the following instructions: AVX2 AVX512F AVX512_VNNI FMA, in other operations, rebuild TensorFlow with the appropriate compiler flags.\n"
     ]
    },
    {
     "name": "stdout",
     "output_type": "stream",
     "text": [
      "[PhysicalDevice(name='/physical_device:CPU:0', device_type='CPU'), PhysicalDevice(name='/physical_device:GPU:0', device_type='GPU')]\n",
      "True\n",
      "True\n",
      "WARNING:tensorflow:From /tmp/ipykernel_1107550/319865207.py:8: is_gpu_available (from tensorflow.python.framework.test_util) is deprecated and will be removed in a future version.\n",
      "Instructions for updating:\n",
      "Use `tf.config.list_physical_devices('GPU')` instead.\n",
      "True\n"
     ]
    },
    {
     "name": "stderr",
     "output_type": "stream",
     "text": [
      "I0000 00:00:1749768164.037382 1107550 gpu_device.cc:2019] Created device /device:GPU:0 with 12958 MB memory:  -> device: 0, name: NVIDIA RTX A4000, pci bus id: 0000:4b:00.0, compute capability: 8.6\n"
     ]
    }
   ],
   "source": [
    "from OptimizedDataGenerator4 import *\n",
    "import matplotlib.pyplot as plt\n",
    "import numpy as np\n",
    "import tensorflow as tf\n",
    "print(tf.config.experimental.list_physical_devices())\n",
    "print(tf.test.is_built_with_cuda())\n",
    "print(tf.test.is_built_with_gpu_support())\n",
    "print(tf.test.is_gpu_available())"
   ]
  },
  {
   "cell_type": "code",
   "execution_count": 19,
   "id": "98d84e13",
   "metadata": {},
   "outputs": [],
   "source": [
    "filepath = \"./DanielModels/model1.keras\"\n",
    "model1 = tf.keras.models.load_model(filepath,compile=True)\n",
    "filepath = \"./DanielModels/model2.keras\"\n",
    "model2 = tf.keras.models.load_model(filepath,compile=True)\n",
    "filepath = \"./DanielModels/model3.keras\"\n",
    "model3 = tf.keras.models.load_model(filepath,compile=True)\n",
    "filepath = \"./DanielModels/model4.keras\"\n",
    "model4 = tf.keras.models.load_model(filepath,compile=True)\n",
    "filepath = \"./DanielModels/model5.keras\"\n",
    "model5 = tf.keras.models.load_model(filepath,compile=True)\n",
    "filepath = \"./DanielModels/model6.keras\"\n",
    "model6 = tf.keras.models.load_model(filepath,compile=True)\n",
    "\n",
    "\n",
    "# trainODG._parse_tfrecord_fn()"
   ]
  },
  {
   "cell_type": "code",
   "execution_count": 20,
   "id": "b777bb56",
   "metadata": {},
   "outputs": [
    {
     "name": "stderr",
     "output_type": "stream",
     "text": [
      "WARNING:root:Quantization is False in data generator. This may affect model performance.\n",
      "WARNING:root:Quantization is False in data generator. This may affect model performance.\n",
      "/home/dabadjiev/.local/lib/python3.9/site-packages/keras/src/models/functional.py:241: UserWarning: The structure of `inputs` doesn't match the expected structure.\n",
      "Expected: z_global\n",
      "Received: inputs=['Tensor(shape=(None, 1))']\n",
      "  warnings.warn(msg)\n"
     ]
    },
    {
     "name": "stdout",
     "output_type": "stream",
     "text": [
      "\u001b[1m14/14\u001b[0m \u001b[32m━━━━━━━━━━━━━━━━━━━━\u001b[0m\u001b[37m\u001b[0m \u001b[1m1s\u001b[0m 62ms/step - binary_accuracy: 0.6142 - loss: 0.6588\n",
      "sequential model1 validation test accuracy: 0.6455199122428894\n",
      "\u001b[1m14/14\u001b[0m \u001b[32m━━━━━━━━━━━━━━━━━━━━\u001b[0m\u001b[37m\u001b[0m \u001b[1m1s\u001b[0m 64ms/step - binary_accuracy: 0.8207 - loss: 0.4214\n",
      "sequential model2 validation test accuracy: 0.8542948365211487\n",
      "\u001b[1m14/14\u001b[0m \u001b[32m━━━━━━━━━━━━━━━━━━━━\u001b[0m\u001b[37m\u001b[0m \u001b[1m1s\u001b[0m 65ms/step - binary_accuracy: 0.7966 - loss: 0.4833\n",
      "sequential model3 validation test accuracy: 0.8410286903381348\n"
     ]
    },
    {
     "name": "stderr",
     "output_type": "stream",
     "text": [
      "WARNING:root:Quantization is False in data generator. This may affect model performance.\n",
      "WARNING:root:Quantization is False in data generator. This may affect model performance.\n"
     ]
    },
    {
     "name": "stdout",
     "output_type": "stream",
     "text": [
      "\u001b[1m14/14\u001b[0m \u001b[32m━━━━━━━━━━━━━━━━━━━━\u001b[0m\u001b[37m\u001b[0m \u001b[1m1s\u001b[0m 71ms/step - binary_accuracy: 0.6345 - loss: 0.6216\n",
      "sequential model5 validation test accuracy: 0.681464433670044\n",
      "\u001b[1m14/14\u001b[0m \u001b[32m━━━━━━━━━━━━━━━━━━━━\u001b[0m\u001b[37m\u001b[0m \u001b[1m2s\u001b[0m 102ms/step - binary_accuracy: 0.8656 - loss: 0.3909\n",
      "sequential model6 validation test accuracy: 0.8952049016952515\n"
     ]
    }
   ],
   "source": [
    "validation_dir = \"./tf_records1000Daniel/tfrecords_validation/\"\n",
    "train_dir = \"./tf_records1000Daniel/tfrecords_train/\"\n",
    "x_feature_description: list = ['x_size','z_global','y_profile','x_profile','cluster']\n",
    "trainODG = OptimizedDataGenerator(tf_records_dir=train_dir,load_records=True, x_feature_description=x_feature_description)\n",
    "validationODG = OptimizedDataGenerator(tf_records_dir=validation_dir,load_records=True, x_feature_description=x_feature_description)\n",
    "test_loss, test_acc = model1.evaluate(validationODG)\n",
    "print(\"sequential model1 validation test accuracy: \"+str(test_acc))\n",
    "test_loss, test_acc = model2.evaluate(validationODG)\n",
    "print(\"sequential model2 validation test accuracy: \"+str(test_acc))\n",
    "test_loss, test_acc = model3.evaluate(validationODG)\n",
    "print(\"sequential model3 validation test accuracy: \"+str(test_acc))\n",
    "# test_loss, test_acc = model4.evaluate(validationODG)\n",
    "# print(\"sequential model4 validation test accuracy: \"+str(test_acc))\n",
    "\n",
    "validation_dir = \"./tf_records1000DanielWithTiming/tfrecords_validation/\"\n",
    "train_dir = \"./tf_records1000DanielWithTiming/tfrecords_train/\"\n",
    "x_feature_description: list = ['x_size','z_global','y_profile','x_profile','cluster']\n",
    "trainODG = OptimizedDataGenerator(tf_records_dir=train_dir,load_records=True, x_feature_description=x_feature_description,time_stamps=[17,18,19])\n",
    "validationODG = OptimizedDataGenerator(tf_records_dir=validation_dir,load_records=True, x_feature_description=x_feature_description,time_stamps=[17,18,19])\n",
    "\n",
    "\n",
    "\n",
    "test_loss, test_acc = model5.evaluate(validationODG)\n",
    "print(\"sequential model5 validation test accuracy: \"+str(test_acc))\n",
    "test_loss, test_acc = model6.evaluate(validationODG)\n",
    "print(\"sequential model6 validation test accuracy: \"+str(test_acc))"
   ]
  }
 ],
 "metadata": {
  "kernelspec": {
   "display_name": "Python 3",
   "language": "python",
   "name": "python3"
  },
  "language_info": {
   "codemirror_mode": {
    "name": "ipython",
    "version": 3
   },
   "file_extension": ".py",
   "mimetype": "text/x-python",
   "name": "python",
   "nbconvert_exporter": "python",
   "pygments_lexer": "ipython3",
   "version": "3.9.21"
  }
 },
 "nbformat": 4,
 "nbformat_minor": 5
}
