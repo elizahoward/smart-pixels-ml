{
 "cells": [
  {
   "cell_type": "code",
   "execution_count": 1,
   "metadata": {},
   "outputs": [
    {
     "name": "stderr",
     "output_type": "stream",
     "text": [
      "2024-09-11 14:55:29.883424: I tensorflow/core/util/port.cc:113] oneDNN custom operations are on. You may see slightly different numerical results due to floating-point round-off errors from different computation orders. To turn them off, set the environment variable `TF_ENABLE_ONEDNN_OPTS=0`.\n",
      "2024-09-11 14:55:29.886133: I external/local_tsl/tsl/cuda/cudart_stub.cc:31] Could not find cuda drivers on your machine, GPU will not be used.\n",
      "2024-09-11 14:55:29.917457: E external/local_xla/xla/stream_executor/cuda/cuda_dnn.cc:9261] Unable to register cuDNN factory: Attempting to register factory for plugin cuDNN when one has already been registered\n",
      "2024-09-11 14:55:29.917480: E external/local_xla/xla/stream_executor/cuda/cuda_fft.cc:607] Unable to register cuFFT factory: Attempting to register factory for plugin cuFFT when one has already been registered\n",
      "2024-09-11 14:55:29.918397: E external/local_xla/xla/stream_executor/cuda/cuda_blas.cc:1515] Unable to register cuBLAS factory: Attempting to register factory for plugin cuBLAS when one has already been registered\n",
      "2024-09-11 14:55:29.923645: I external/local_tsl/tsl/cuda/cudart_stub.cc:31] Could not find cuda drivers on your machine, GPU will not be used.\n",
      "2024-09-11 14:55:29.924043: I tensorflow/core/platform/cpu_feature_guard.cc:182] This TensorFlow binary is optimized to use available CPU instructions in performance-critical operations.\n",
      "To enable the following instructions: AVX2 AVX512F AVX512_VNNI FMA, in other operations, rebuild TensorFlow with the appropriate compiler flags.\n",
      "2024-09-11 14:55:30.565700: W tensorflow/compiler/tf2tensorrt/utils/py_utils.cc:38] TF-TRT Warning: Could not find TensorRT\n",
      "/home/daq/venv/lib64/python3.9/site-packages/networkx/utils/backends.py:135: RuntimeWarning: networkx backend defined more than once: nx-loopback\n",
      "  backends.update(_get_backends(\"networkx.backends\"))\n"
     ]
    }
   ],
   "source": [
    "# fix for keras v3.0 update\n",
    "import os\n",
    "os.environ['TF_USE_LEGACY_KERAS'] = '1' \n",
    "\n",
    "# tensorflow\n",
    "import tensorflow as tf\n",
    "from tensorflow.keras.optimizers import Adam\n",
    "from tensorflow.keras.callbacks import EarlyStopping\n",
    "\n",
    "# python based\n",
    "import random\n",
    "from pathlib import Path\n",
    "import time\n",
    "import argparse\n",
    "import json\n",
    "import submitit\n",
    "import shutil\n",
    "import pandas as pd\n",
    "import seaborn as sns\n",
    "import matplotlib.pyplot as plt\n",
    "from tqdm import tqdm\n",
    "\n",
    "# custom code\n",
    "from OptimizedDataGenerator import OptimizedDataGenerator\n",
    "from loss import *\n",
    "from models import *"
   ]
  },
  {
   "cell_type": "code",
   "execution_count": 2,
   "metadata": {},
   "outputs": [
    {
     "name": "stdout",
     "output_type": "stream",
     "text": [
      "/home/elizahoward/smart-pixels-ml/training_output2\n",
      "Directory /home/elizahoward/smart-pixels-ml/training_output2/tfrecords_train_b3854f25 is removed...\n"
     ]
    },
    {
     "name": "stderr",
     "output_type": "stream",
     "text": [
      "2024-09-11 14:55:32.443722: E external/local_xla/xla/stream_executor/cuda/cuda_driver.cc:274] failed call to cuInit: CUDA_ERROR_NO_DEVICE: no CUDA-capable device is detected\n",
      "Processing Files...:   0%|          | 0/20 [00:00<?, ?it/s]"
     ]
    },
    {
     "name": "stderr",
     "output_type": "stream",
     "text": [
      "Processing Files...: 100%|██████████| 20/20 [00:04<00:00,  4.03it/s]\n",
      "Saving batches as TFRecords: 100%|██████████| 50/50 [00:02<00:00, 17.52it/s]\n",
      "WARNING:root:Quantization is False in data generator. This may affect model performance.\n"
     ]
    },
    {
     "name": "stdout",
     "output_type": "stream",
     "text": [
      "--- Training generator 8.028961420059204 seconds ---\n",
      "Directory /home/elizahoward/smart-pixels-ml/training_output2/tfrecords_validation_b3854f25 is removed...\n"
     ]
    },
    {
     "name": "stderr",
     "output_type": "stream",
     "text": [
      "Processing Files...: 100%|██████████| 20/20 [00:04<00:00,  4.24it/s]\n",
      "Saving batches as TFRecords: 100%|██████████| 11/11 [00:01<00:00, 10.66it/s]\n",
      "WARNING:root:Quantization is False in data generator. This may affect model performance.\n"
     ]
    },
    {
     "name": "stdout",
     "output_type": "stream",
     "text": [
      "--- Validation generator 5.938417196273804 seconds ---\n"
     ]
    }
   ],
   "source": [
    "# set gpu growth\n",
    "gpus = tf.config.list_physical_devices('GPU')\n",
    "if gpus:\n",
    "  try:\n",
    "    # Currently, memory growth needs to be the same across GPUs\n",
    "    for gpu in gpus:\n",
    "      tf.config.experimental.set_memory_growth(gpu, True)\n",
    "    logical_gpus = tf.config.list_logical_devices('GPU')\n",
    "    print(len(gpus), \"Physical GPUs,\", len(logical_gpus), \"Logical GPUs\")\n",
    "  except RuntimeError as e:\n",
    "    # Memory growth must be set before GPUs have been initialized\n",
    "    print(e)\n",
    "\n",
    "output_directory = Path(\"./training_output2\").resolve()\n",
    "batch_size = 500\n",
    "val_batch_size = 500\n",
    "\n",
    "if not os.path.exists(output_directory):\n",
    "    os.mkdir(output_directory)\n",
    "    \n",
    "os.makedirs(output_directory, exist_ok=True)\n",
    "print(output_directory)\n",
    "\n",
    "# paths\n",
    "data_directory_path = \"/home/elizahoward/cmspix28-mc-sim/minbiasDataSet1/\"\n",
    "    \n",
    "# create tf records directory\n",
    "stamp = '%08x' % random.randrange(16**8)\n",
    "tfrecords_dir_train = Path(output_directory, f\"tfrecords_train_{stamp}\").resolve()\n",
    "tfrecords_dir_validation = Path(output_directory, f\"tfrecords_validation_{stamp}\").resolve()\n",
    "if not os.path.exists(tfrecords_dir_train):\n",
    "    os.mkdir(tfrecords_dir_train)\n",
    "    os.mkdir(tfrecords_dir_validation)\n",
    "\n",
    "# training generator\n",
    "start_time = time.time()\n",
    "training_generator = OptimizedDataGenerator(\n",
    "    data_directory_path = data_directory_path,\n",
    "    labels_directory_path = data_directory_path,\n",
    "    is_directory_recursive = False,\n",
    "    file_type = \"parquet\",\n",
    "    data_format = \"3D\",\n",
    "    batch_size = batch_size,\n",
    "    to_standardize= False,\n",
    "    include_y_local= True,\n",
    "    labels_list = ['x-midplane','y-midplane','cotAlpha','cotBeta'],\n",
    "    input_shape = (2,13,21), # (20,13,21),\n",
    "    transpose = (0,2,3,1),\n",
    "    save=True,\n",
    "    use_time_stamps = [0,19],\n",
    "    tfrecords_dir = tfrecords_dir_train,\n",
    ")\n",
    "print(\"--- Training generator %s seconds ---\" % (time.time() - start_time))\n",
    "\n",
    "data_directory_path = \"/home/elizahoward/cmspix28-mc-sim/minbiasDataSet2/\"\n",
    "\n",
    "start_time = time.time()\n",
    "validation_generator = OptimizedDataGenerator(\n",
    "    data_directory_path = data_directory_path,\n",
    "    labels_directory_path = data_directory_path,\n",
    "    is_directory_recursive = False,\n",
    "    file_type = \"parquet\",\n",
    "    data_format = \"3D\",\n",
    "    batch_size = val_batch_size,\n",
    "    to_standardize= False,\n",
    "    include_y_local= True,\n",
    "    labels_list = ['x-midplane','y-midplane','cotAlpha','cotBeta'],\n",
    "    input_shape = (2,13,21), # (20,13,21),\n",
    "    transpose = (0,2,3,1),\n",
    "    use_time_stamps = [0,19],\n",
    "    tfrecords_dir = tfrecords_dir_validation,\n",
    ")\n",
    "print(\"--- Validation generator %s seconds ---\" % (time.time() - start_time))"
   ]
  },
  {
   "cell_type": "code",
   "execution_count": 3,
   "metadata": {},
   "outputs": [
    {
     "name": "stdout",
     "output_type": "stream",
     "text": [
      "Model: \"model\"\n",
      "_________________________________________________________________\n",
      " Layer (type)                Output Shape              Param #   \n",
      "=================================================================\n",
      " input_1 (InputLayer)        [(None, 13, 21, 3)]       0         \n",
      "                                                                 \n",
      " q_separable_conv2d (QSepar  (None, 11, 19, 5)         47        \n",
      " ableConv2D)                                                     \n",
      "                                                                 \n",
      " q_activation (QActivation)  (None, 11, 19, 5)         0         \n",
      "                                                                 \n",
      " q_conv2d (QConv2D)          (None, 11, 19, 5)         30        \n",
      "                                                                 \n",
      " q_activation_1 (QActivatio  (None, 11, 19, 5)         0         \n",
      " n)                                                              \n",
      "                                                                 \n",
      " average_pooling2d (Average  (None, 3, 6, 5)           0         \n",
      " Pooling2D)                                                      \n",
      "                                                                 \n",
      " q_activation_2 (QActivatio  (None, 3, 6, 5)           0         \n",
      " n)                                                              \n",
      "                                                                 \n",
      " flatten (Flatten)           (None, 90)                0         \n",
      "                                                                 \n",
      " q_dense (QDense)            (None, 16)                1456      \n",
      "                                                                 \n",
      " q_activation_3 (QActivatio  (None, 16)                0         \n",
      " n)                                                              \n",
      "                                                                 \n",
      " q_dense_1 (QDense)          (None, 16)                272       \n",
      "                                                                 \n",
      " q_activation_4 (QActivatio  (None, 16)                0         \n",
      " n)                                                              \n",
      "                                                                 \n",
      " q_dense_2 (QDense)          (None, 14)                238       \n",
      "                                                                 \n",
      "=================================================================\n",
      "Total params: 2043 (7.98 KB)\n",
      "Trainable params: 2043 (7.98 KB)\n",
      "Non-trainable params: 0 (0.00 Byte)\n",
      "_________________________________________________________________\n",
      "--- Model create and compile 1.2231292724609375 seconds ---\n"
     ]
    }
   ],
   "source": [
    " # compiles model\n",
    "n_filters = 5 # model number of filters\n",
    "pool_size = 3 # model pool size\n",
    "start_time = time.time()\n",
    "model=CreateModel(shape=(13,21,3), n_filters=n_filters, pool_size=pool_size)\n",
    "model.summary()\n",
    "print(\"--- Model create and compile %s seconds ---\" % (time.time() - start_time))"
   ]
  },
  {
   "cell_type": "code",
   "execution_count": 38,
   "metadata": {},
   "outputs": [],
   "source": [
    "learning_rate = 0.0000001\n",
    "model.compile(optimizer=Adam(learning_rate=learning_rate), loss=custom_loss)"
   ]
  },
  {
   "cell_type": "code",
   "execution_count": 39,
   "metadata": {},
   "outputs": [
    {
     "name": "stdout",
     "output_type": "stream",
     "text": [
      "Epoch 1/10\n"
     ]
    },
    {
     "name": "stdout",
     "output_type": "stream",
     "text": [
      "50/50 [==============================] - 6s 66ms/step - loss: -1768.1815 - val_loss: -1314.7186\n",
      "Epoch 2/10\n",
      "50/50 [==============================] - 3s 50ms/step - loss: -1778.7593 - val_loss: -1307.6670\n",
      "Epoch 3/10\n",
      "50/50 [==============================] - 3s 52ms/step - loss: -1772.8452 - val_loss: -1313.6558\n",
      "Epoch 4/10\n",
      "50/50 [==============================] - 3s 50ms/step - loss: -1763.7761 - val_loss: -1305.2345\n",
      "Epoch 5/10\n",
      "50/50 [==============================] - 3s 50ms/step - loss: -1753.0526 - val_loss: -1302.4359\n",
      "Epoch 6/10\n",
      "50/50 [==============================] - 3s 50ms/step - loss: -1767.2985 - val_loss: -1306.6541\n",
      "Epoch 7/10\n",
      "50/50 [==============================] - 3s 50ms/step - loss: -1756.0925 - val_loss: -1319.9827\n",
      "Epoch 8/10\n",
      "50/50 [==============================] - 3s 50ms/step - loss: -1765.4772 - val_loss: -1311.6472\n",
      "Epoch 9/10\n",
      "50/50 [==============================] - 3s 51ms/step - loss: -1756.7605 - val_loss: -1304.7699\n",
      "Epoch 10/10\n",
      "50/50 [==============================] - 3s 51ms/step - loss: -1768.0295 - val_loss: -1304.4698\n"
     ]
    }
   ],
   "source": [
    "epochs = 10\n",
    "early_stopping_patience = 50\n",
    "\n",
    "# launch quick training once gpu is available\n",
    "es = EarlyStopping(\n",
    "        patience=early_stopping_patience,\n",
    "        restore_best_weights=True\n",
    ")\n",
    "    \n",
    "# checkpoint path\n",
    "checkpoint_filepath = Path(output_directory, 'weights.{epoch:02d}-t{loss:.2f}-v{val_loss:.2f}.hdf5').resolve()\n",
    "mcp = tf.keras.callbacks.ModelCheckpoint(\n",
    "        filepath=checkpoint_filepath,\n",
    "        save_weights_only=True,\n",
    "        monitor='val_loss',\n",
    "        save_best_only=True,\n",
    ")\n",
    "\n",
    "# train\n",
    "history = model.fit(x=training_generator,\n",
    "                        validation_data=validation_generator,\n",
    "                        callbacks=[mcp],\n",
    "                        epochs=epochs,\n",
    "                        shuffle=False, # shuffling now occurs within the data-loader\n",
    "                        verbose=1)\n",
    "    \n",
    "# clean up tf records\n",
    "#shutil.rmtree(tfrecords_dir_train)\n",
    "#shutil.rmtree(tfrecords_dir_validation)"
   ]
  },
  {
   "cell_type": "code",
   "execution_count": 40,
   "metadata": {},
   "outputs": [],
   "source": [
    "model.load_weights(\"/home/elizahoward/smart-pixels-ml/training_output2/weights.01-t-1778.85-v-1310.17.hdf5\")"
   ]
  },
  {
   "cell_type": "code",
   "execution_count": 32,
   "metadata": {},
   "outputs": [
    {
     "name": "stdout",
     "output_type": "stream",
     "text": [
      "11/11 [==============================] - 1s 57ms/step\n"
     ]
    }
   ],
   "source": [
    "p_test = model.predict(validation_generator)"
   ]
  },
  {
   "cell_type": "code",
   "execution_count": 33,
   "metadata": {},
   "outputs": [
    {
     "name": "stderr",
     "output_type": "stream",
     "text": [
      "100%|██████████| 11/11 [00:00<00:00, 28.05it/s]\n"
     ]
    }
   ],
   "source": [
    "complete_truth = None\n",
    "for _, y in tqdm(validation_generator):\n",
    "        if complete_truth is None:\n",
    "            complete_truth = y\n",
    "        else:\n",
    "            complete_truth = np.concatenate((complete_truth, y), axis=0)"
   ]
  },
  {
   "cell_type": "code",
   "execution_count": 34,
   "metadata": {},
   "outputs": [],
   "source": [
    "maxval=1e9\n",
    "minval=1e-9\n",
    "\n",
    "# creates df with all predicted values and matrix elements - 4 predictions, all 10 unique matrix elements\n",
    "df = pd.DataFrame(p_test,columns=['x','M11','y','M22','cotA','M33','cotB','M44','M21','M31','M32','M41','M42','M43'])\n",
    "df['x'] *= 75\n",
    "df['y'] *= 18.75\n",
    "df['cotA'] *= 8\n",
    "df['cotB'] *= 0.5\n",
    "\n",
    "# stores all true values in same matrix as xtrue, ytrue, etc.\n",
    "df['xtrue'] = complete_truth[:,0]*75\n",
    "df['ytrue'] = complete_truth[:,1]*18.75\n",
    "df['cotAtrue'] = complete_truth[:,2]*8\n",
    "df['cotBtrue'] = complete_truth[:,3]*0.5\n",
    "df['M11'] = minval+tf.math.maximum(df['M11'], 0)\n",
    "df['M22'] = minval+tf.math.maximum(df['M22'], 0)\n",
    "df['M33'] = minval+tf.math.maximum(df['M33'], 0)\n",
    "df['M44'] = minval+tf.math.maximum(df['M44'], 0)\n",
    "\n",
    "df['sigmax'] = abs(df['M11'])\n",
    "df['sigmay'] = np.sqrt(df['M21']**2 + df['M22']**2)\n",
    "df['sigmacotA'] = np.sqrt(df['M31']**2+df['M32']**2+df['M33']**2)\n",
    "df['sigmacotB'] = np.sqrt(df['M41']**2+df['M42']**2+df['M43']**2+df['M44']**2)\n",
    "\n",
    "# calculates residuals for x, y, cotA, cotB\n",
    "residualsx = np.abs(df['xtrue'] - df['x'])\n",
    "residualsy = np.abs(df['ytrue'] - df['y'])\n",
    "residualsA = np.abs(df['cotAtrue'] - df['cotA'])\n",
    "residualsB = np.abs(df['cotBtrue'] - df['cotB'])\n",
    "\n",
    "# stores results as csv\n",
    "#df.to_csv(\"test_4x4.csv\",header=True,index=False)"
   ]
  },
  {
   "cell_type": "code",
   "execution_count": 35,
   "metadata": {},
   "outputs": [
    {
     "name": "stdout",
     "output_type": "stream",
     "text": [
      "mean and std residuals for x-midplane: (9.740413665771484,11.786283493041992)\n",
      "mean and std residuals for y-midplane: (1.6810656785964966,1.788089394569397)\n",
      "mean and std residuals for cot(alpha): (0.4487745761871338,0.6009690165519714)\n",
      "mean and std residuals for cot(beta): (0.033546578139066696,0.025599757209420204)\n"
     ]
    }
   ],
   "source": [
    "# x\n",
    "xmean, xstd = (np.mean(residualsx),np.std(residualsx))\n",
    "print(f\"mean and std residuals for x-midplane: ({xmean},{xstd})\")\n",
    "# y\n",
    "ymean, ystd = (np.mean(residualsy),np.std(residualsy))\n",
    "print(f\"mean and std residuals for y-midplane: ({ymean},{ystd})\")\n",
    "# cotA\n",
    "cotAmean, cotAstd = (np.mean(residualsA),np.std(residualsA))\n",
    "print(f\"mean and std residuals for cot(alpha): ({cotAmean},{cotAstd})\")\n",
    "# cotB\n",
    "cotBmean, cotBstd = (np.mean(residualsB),np.std(residualsB))\n",
    "print(f\"mean and std residuals for cot(beta): ({cotBmean},{cotBstd})\")\n"
   ]
  },
  {
   "cell_type": "code",
   "execution_count": 36,
   "metadata": {},
   "outputs": [
    {
     "data": {
      "image/png": "[encoded data removed]",
      "text/plain": [
       "<Figure size 640x480 with 1 Axes>"
      ]
     },
     "metadata": {},
     "output_type": "display_data"
    }
   ],
   "source": [
    "plt.hist(residualsx, bins = 15)\n",
    "#plt.yscale('Log')\n",
    "plt.xlabel(r'$x-\\mu_x$ [um]')\n",
    "\n",
    "#save_fig_path = os.path.join(base_dir, 'x_res_dist.png')\n",
    "#plt.savefig(save_fig_path)\n",
    "\n",
    "plt.show()"
   ]
  },
  {
   "cell_type": "code",
   "execution_count": 37,
   "metadata": {},
   "outputs": [
    {
     "data": {
      "image/png": "[encoded data removed]",
      "text/plain": [
       "<Figure size 640x480 with 1 Axes>"
      ]
     },
     "metadata": {},
     "output_type": "display_data"
    }
   ],
   "source": [
    "x = sns.regplot(x=df['xtrue'], y=residualsx, x_bins=np.linspace(-75,75,50), fit_reg=None, marker='.')\n",
    "plt.xlabel(r'True $x$ [um]')\n",
    "plt.ylabel(r'$x-\\mu_x$ [um]')\n",
    "\n",
    "#save_fig_path = os.path.join(base_dir, 'x_vs_res.png')\n",
    "#plt.savefig(save_fig_path)\n",
    "\n",
    "plt.show()"
   ]
  },
  {
   "cell_type": "code",
   "execution_count": null,
   "metadata": {},
   "outputs": [],
   "source": []
  }
 ],
 "metadata": {
  "kernelspec": {
   "display_name": "venv",
   "language": "python",
   "name": "venv"
  },
  "language_info": {
   "codemirror_mode": {
    "name": "ipython",
    "version": 3
   },
   "file_extension": ".py",
   "mimetype": "text/x-python",
   "name": "python",
   "nbconvert_exporter": "python",
   "pygments_lexer": "ipython3",
   "version": "3.9.18"
  }
 },
 "nbformat": 4,
 "nbformat_minor": 2
}
