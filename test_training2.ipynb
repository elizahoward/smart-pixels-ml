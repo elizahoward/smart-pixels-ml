{
 "cells": [
  {
   "cell_type": "code",
   "execution_count": 1,
   "metadata": {},
   "outputs": [
    {
     "name": "stderr",
     "output_type": "stream",
     "text": [
      "2024-09-10 12:29:56.149530: I tensorflow/core/util/port.cc:113] oneDNN custom operations are on. You may see slightly different numerical results due to floating-point round-off errors from different computation orders. To turn them off, set the environment variable `TF_ENABLE_ONEDNN_OPTS=0`.\n",
      "2024-09-10 12:29:56.152166: I external/local_tsl/tsl/cuda/cudart_stub.cc:31] Could not find cuda drivers on your machine, GPU will not be used.\n",
      "2024-09-10 12:29:56.182974: E external/local_xla/xla/stream_executor/cuda/cuda_dnn.cc:9261] Unable to register cuDNN factory: Attempting to register factory for plugin cuDNN when one has already been registered\n",
      "2024-09-10 12:29:56.182996: E external/local_xla/xla/stream_executor/cuda/cuda_fft.cc:607] Unable to register cuFFT factory: Attempting to register factory for plugin cuFFT when one has already been registered\n",
      "2024-09-10 12:29:56.183858: E external/local_xla/xla/stream_executor/cuda/cuda_blas.cc:1515] Unable to register cuBLAS factory: Attempting to register factory for plugin cuBLAS when one has already been registered\n",
      "2024-09-10 12:29:56.188956: I external/local_tsl/tsl/cuda/cudart_stub.cc:31] Could not find cuda drivers on your machine, GPU will not be used.\n",
      "2024-09-10 12:29:56.189643: I tensorflow/core/platform/cpu_feature_guard.cc:182] This TensorFlow binary is optimized to use available CPU instructions in performance-critical operations.\n",
      "To enable the following instructions: AVX2 AVX512F AVX512_VNNI FMA, in other operations, rebuild TensorFlow with the appropriate compiler flags.\n",
      "2024-09-10 12:29:56.835318: W tensorflow/compiler/tf2tensorrt/utils/py_utils.cc:38] TF-TRT Warning: Could not find TensorRT\n",
      "/home/daq/venv/lib64/python3.9/site-packages/networkx/utils/backends.py:135: RuntimeWarning: networkx backend defined more than once: nx-loopback\n",
      "  backends.update(_get_backends(\"networkx.backends\"))\n"
     ]
    }
   ],
   "source": [
    "# fix for keras v3.0 update\n",
    "import os\n",
    "os.environ['TF_USE_LEGACY_KERAS'] = '1' \n",
    "\n",
    "# tensorflow\n",
    "import tensorflow as tf\n",
    "from tensorflow.keras.optimizers import Adam\n",
    "from tensorflow.keras.callbacks import EarlyStopping\n",
    "\n",
    "# python based\n",
    "import random\n",
    "from pathlib import Path\n",
    "import time\n",
    "import argparse\n",
    "import json\n",
    "import submitit\n",
    "import shutil\n",
    "import pandas as pd\n",
    "import seaborn as sns\n",
    "import matplotlib.pyplot as plt\n",
    "from tqdm import tqdm\n",
    "\n",
    "# custom code\n",
    "from OptimizedDataGenerator import OptimizedDataGenerator\n",
    "from loss import *\n",
    "from models import *"
   ]
  },
  {
   "cell_type": "code",
   "execution_count": 2,
   "metadata": {},
   "outputs": [
    {
     "name": "stdout",
     "output_type": "stream",
     "text": [
      "/home/elizahoward/smart-pixels-ml/training_output2\n",
      "Directory /home/elizahoward/smart-pixels-ml/training_output2/tfrecords_train_4a04a8f2 is removed...\n"
     ]
    },
    {
     "name": "stderr",
     "output_type": "stream",
     "text": [
      "2024-09-10 12:29:58.743442: E external/local_xla/xla/stream_executor/cuda/cuda_driver.cc:274] failed call to cuInit: CUDA_ERROR_NO_DEVICE: no CUDA-capable device is detected\n",
      "Processing Files...: 100%|██████████| 20/20 [00:05<00:00,  3.77it/s]\n",
      "Saving batches as TFRecords: 100%|██████████| 50/50 [00:04<00:00, 10.26it/s]\n",
      "WARNING:root:Quantization is False in data generator. This may affect model performance.\n"
     ]
    },
    {
     "name": "stdout",
     "output_type": "stream",
     "text": [
      "Error saving batch 0: Can't convert non-rectangular Python sequence to Tensor.\n",
      "Error saving batch 1: local variable 'ylocal_df' referenced before assignment\n",
      "Error saving batch 2: local variable 'ylocal_df' referenced before assignment\n",
      "Error saving batch 3: local variable 'ylocal_df' referenced before assignment\n",
      "Error saving batch 4: local variable 'ylocal_df' referenced before assignment\n",
      "Error saving batch 5: local variable 'ylocal_df' referenced before assignment\n",
      "Error saving batch 6: local variable 'ylocal_df' referenced before assignment\n",
      "Error saving batch 7: Can't convert non-rectangular Python sequence to Tensor.\n",
      "Error saving batch 8: local variable 'ylocal_df' referenced before assignment\n",
      "Error saving batch 9: local variable 'ylocal_df' referenced before assignment\n",
      "Error saving batch 10: local variable 'ylocal_df' referenced before assignment\n",
      "Error saving batch 11: local variable 'ylocal_df' referenced before assignment\n",
      "Error saving batch 12: local variable 'ylocal_df' referenced before assignment\n",
      "Error saving batch 13: local variable 'ylocal_df' referenced before assignment\n",
      "Error saving batch 14: Can't convert non-rectangular Python sequence to Tensor.\n",
      "Error saving batch 15: local variable 'ylocal_df' referenced before assignment\n",
      "Error saving batch 16: local variable 'ylocal_df' referenced before assignment\n",
      "Error saving batch 17: local variable 'ylocal_df' referenced before assignment\n",
      "Error saving batch 18: local variable 'ylocal_df' referenced before assignment\n",
      "Error saving batch 19: local variable 'ylocal_df' referenced before assignment\n",
      "Error saving batch 20: local variable 'ylocal_df' referenced before assignment\n",
      "Error saving batch 21: Can't convert non-rectangular Python sequence to Tensor.\n",
      "Error saving batch 22: local variable 'ylocal_df' referenced before assignment\n",
      "Error saving batch 23: Can't convert non-rectangular Python sequence to Tensor.\n",
      "Error saving batch 24: local variable 'ylocal_df' referenced before assignment\n",
      "Error saving batch 25: Can't convert non-rectangular Python sequence to Tensor.\n",
      "Error saving batch 26: local variable 'ylocal_df' referenced before assignment\n",
      "Error saving batch 27: Can't convert non-rectangular Python sequence to Tensor.\n",
      "Error saving batch 28: local variable 'ylocal_df' referenced before assignment\n",
      "Error saving batch 29: Can't convert non-rectangular Python sequence to Tensor.\n",
      "Error saving batch 30: local variable 'ylocal_df' referenced before assignment\n",
      "Error saving batch 31: Can't convert non-rectangular Python sequence to Tensor.\n",
      "Error saving batch 32: local variable 'ylocal_df' referenced before assignment\n",
      "Error saving batch 33: local variable 'ylocal_df' referenced before assignment\n",
      "Error saving batch 34: Can't convert non-rectangular Python sequence to Tensor.\n",
      "Error saving batch 35: local variable 'ylocal_df' referenced before assignment\n",
      "Error saving batch 36: Can't convert non-rectangular Python sequence to Tensor.\n",
      "Error saving batch 37: Can't convert non-rectangular Python sequence to Tensor.\n",
      "Error saving batch 38: Can't convert non-rectangular Python sequence to Tensor.\n",
      "Error saving batch 39: Can't convert non-rectangular Python sequence to Tensor.\n",
      "Error saving batch 40: local variable 'ylocal_df' referenced before assignment\n",
      "Error saving batch 41: Can't convert non-rectangular Python sequence to Tensor.\n",
      "Error saving batch 42: Can't convert non-rectangular Python sequence to Tensor.\n",
      "Error saving batch 43: local variable 'ylocal_df' referenced before assignment\n",
      "Error saving batch 44: Can't convert non-rectangular Python sequence to Tensor.\n",
      "Error saving batch 45: local variable 'ylocal_df' referenced before assignment\n",
      "Error saving batch 46: Can't convert non-rectangular Python sequence to Tensor.\n",
      "Error saving batch 47: Can't convert non-rectangular Python sequence to Tensor.\n",
      "Error saving batch 48: local variable 'ylocal_df' referenced before assignment\n",
      "Error saving batch 49: Can't convert non-rectangular Python sequence to Tensor.\n",
      "--- Training generator 10.396927833557129 seconds ---\n",
      "Directory /home/elizahoward/smart-pixels-ml/training_output2/tfrecords_validation_4a04a8f2 is removed...\n"
     ]
    },
    {
     "name": "stderr",
     "output_type": "stream",
     "text": [
      "Processing Files...: 100%|██████████| 20/20 [00:04<00:00,  4.25it/s]\n",
      "Saving batches as TFRecords: 100%|██████████| 11/11 [00:01<00:00,  7.07it/s]\n",
      "WARNING:root:Quantization is False in data generator. This may affect model performance.\n"
     ]
    },
    {
     "name": "stdout",
     "output_type": "stream",
     "text": [
      "Error saving batch 0: Can't convert non-rectangular Python sequence to Tensor.\n",
      "Error saving batch 1: local variable 'ylocal_df' referenced before assignment\n",
      "Error saving batch 2: Can't convert non-rectangular Python sequence to Tensor.\n",
      "Error saving batch 3: Can't convert non-rectangular Python sequence to Tensor.\n",
      "Error saving batch 4: local variable 'ylocal_df' referenced before assignment\n",
      "Error saving batch 5: Can't convert non-rectangular Python sequence to Tensor.\n",
      "Error saving batch 6: Can't convert non-rectangular Python sequence to Tensor.\n",
      "Error saving batch 7: Can't convert non-rectangular Python sequence to Tensor.\n",
      "Error saving batch 8: Can't convert non-rectangular Python sequence to Tensor.\n",
      "Error saving batch 9: Can't convert non-rectangular Python sequence to Tensor.\n",
      "Error saving batch 10: Can't convert non-rectangular Python sequence to Tensor.\n",
      "--- Validation generator 6.467097997665405 seconds ---\n"
     ]
    }
   ],
   "source": [
    "# set gpu growth\n",
    "gpus = tf.config.list_physical_devices('GPU')\n",
    "if gpus:\n",
    "  try:\n",
    "    # Currently, memory growth needs to be the same across GPUs\n",
    "    for gpu in gpus:\n",
    "      tf.config.experimental.set_memory_growth(gpu, True)\n",
    "    logical_gpus = tf.config.list_logical_devices('GPU')\n",
    "    print(len(gpus), \"Physical GPUs,\", len(logical_gpus), \"Logical GPUs\")\n",
    "  except RuntimeError as e:\n",
    "    # Memory growth must be set before GPUs have been initialized\n",
    "    print(e)\n",
    "\n",
    "output_directory = Path(\"./training_output2\").resolve()\n",
    "batch_size = 500\n",
    "val_batch_size = 500\n",
    "\n",
    "if not os.path.exists(output_directory):\n",
    "    os.mkdir(output_directory)\n",
    "    \n",
    "os.makedirs(output_directory, exist_ok=True)\n",
    "print(output_directory)\n",
    "\n",
    "# paths\n",
    "data_directory_path = \"/home/elizahoward/cmspix28-mc-sim/minbiasDataSet1/\"\n",
    "labels_directory_path = \"/home/elizahoward/cmspix28-mc-sim/minbiasDataSet1/\"\n",
    "    \n",
    "# create tf records directory\n",
    "stamp = '%08x' % random.randrange(16**8)\n",
    "tfrecords_dir_train = Path(output_directory, f\"tfrecords_train_{stamp}\").resolve()\n",
    "tfrecords_dir_validation = Path(output_directory, f\"tfrecords_validation_{stamp}\").resolve()\n",
    "if not os.path.exists(tfrecords_dir_train):\n",
    "    os.mkdir(tfrecords_dir_train)\n",
    "    os.mkdir(tfrecords_dir_validation)\n",
    "\n",
    "# training generator\n",
    "start_time = time.time()\n",
    "training_generator = OptimizedDataGenerator(\n",
    "    data_directory_path = data_directory_path,\n",
    "    labels_directory_path = labels_directory_path,\n",
    "    is_directory_recursive = False,\n",
    "    file_type = \"parquet\",\n",
    "    data_format = \"3D\",\n",
    "    batch_size = batch_size,\n",
    "    to_standardize= False,\n",
    "    include_y_local= True,\n",
    "    labels_list = ['x-midplane','y-midplane','cotAlpha','cotBeta'],\n",
    "    input_shape = (2,13,21), # (20,13,21),\n",
    "    transpose = (0,2,3,1),\n",
    "    save=True,\n",
    "    use_time_stamps = [0,19],\n",
    "    tfrecords_dir = tfrecords_dir_train,\n",
    ")\n",
    "print(\"--- Training generator %s seconds ---\" % (time.time() - start_time))\n",
    "\n",
    "data_directory_path = \"/home/elizahoward/cmspix28-mc-sim/minbiasDataSet2/\"\n",
    "labels_directory_path = \"/home/elizahoward/cmspix28-mc-sim/minbiasDataSet2/\"\n",
    "\n",
    "start_time = time.time()\n",
    "validation_generator = OptimizedDataGenerator(\n",
    "    data_directory_path = data_directory_path,\n",
    "    labels_directory_path = labels_directory_path,\n",
    "    is_directory_recursive = False,\n",
    "    file_type = \"parquet\",\n",
    "    data_format = \"3D\",\n",
    "    batch_size = val_batch_size,\n",
    "    to_standardize= False,\n",
    "    include_y_local= True,\n",
    "    labels_list = ['x-midplane','y-midplane','cotAlpha','cotBeta'],\n",
    "    input_shape = (2,13,21), # (20,13,21),\n",
    "    transpose = (0,2,3,1),\n",
    "    use_time_stamps = [0,19],\n",
    "    tfrecords_dir = tfrecords_dir_validation,\n",
    ")\n",
    "print(\"--- Validation generator %s seconds ---\" % (time.time() - start_time))"
   ]
  },
  {
   "cell_type": "code",
   "execution_count": 3,
   "metadata": {},
   "outputs": [
    {
     "name": "stdout",
     "output_type": "stream",
     "text": [
      "Model: \"model\"\n",
      "_________________________________________________________________\n",
      " Layer (type)                Output Shape              Param #   \n",
      "=================================================================\n",
      " input_1 (InputLayer)        [(None, 13, 21, 2)]       0         \n",
      "                                                                 \n",
      " q_separable_conv2d (QSepar  (None, 11, 19, 5)         33        \n",
      " ableConv2D)                                                     \n",
      "                                                                 \n",
      " q_activation (QActivation)  (None, 11, 19, 5)         0         \n",
      "                                                                 \n",
      " q_conv2d (QConv2D)          (None, 11, 19, 5)         30        \n",
      "                                                                 \n",
      " q_activation_1 (QActivatio  (None, 11, 19, 5)         0         \n",
      " n)                                                              \n",
      "                                                                 \n",
      " average_pooling2d (Average  (None, 3, 6, 5)           0         \n",
      " Pooling2D)                                                      \n",
      "                                                                 \n",
      " q_activation_2 (QActivatio  (None, 3, 6, 5)           0         \n",
      " n)                                                              \n",
      "                                                                 \n",
      " flatten (Flatten)           (None, 90)                0         \n",
      "                                                                 \n",
      " q_dense (QDense)            (None, 16)                1456      \n",
      "                                                                 \n",
      " q_activation_3 (QActivatio  (None, 16)                0         \n",
      " n)                                                              \n",
      "                                                                 \n",
      " q_dense_1 (QDense)          (None, 16)                272       \n",
      "                                                                 \n",
      " q_activation_4 (QActivatio  (None, 16)                0         \n",
      " n)                                                              \n",
      "                                                                 \n",
      " q_dense_2 (QDense)          (None, 14)                238       \n",
      "                                                                 \n",
      "=================================================================\n",
      "Total params: 2029 (7.93 KB)\n",
      "Trainable params: 2029 (7.93 KB)\n",
      "Non-trainable params: 0 (0.00 Byte)\n",
      "_________________________________________________________________\n",
      "--- Model create and compile 1.2691290378570557 seconds ---\n"
     ]
    }
   ],
   "source": [
    " # compiles model\n",
    "n_filters = 5 # model number of filters\n",
    "pool_size = 3 # model pool size\n",
    "learning_rate = 0.001\n",
    "start_time = time.time()\n",
    "model=CreateModel(shape=(13,21,2), n_filters=n_filters, pool_size=pool_size)\n",
    "model.summary()\n",
    "model.compile(optimizer=Adam(learning_rate=learning_rate), loss=custom_loss)\n",
    "\n",
    "print(\"--- Model create and compile %s seconds ---\" % (time.time() - start_time))"
   ]
  },
  {
   "cell_type": "code",
   "execution_count": 12,
   "metadata": {},
   "outputs": [],
   "source": [
    "learning_rate = 0.0001\n",
    "model.compile(optimizer=Adam(learning_rate=learning_rate), loss=custom_loss)"
   ]
  },
  {
   "cell_type": "code",
   "execution_count": 15,
   "metadata": {},
   "outputs": [
    {
     "name": "stdout",
     "output_type": "stream",
     "text": [
      "Epoch 1/25\n",
      " 3/50 [>.............................] - ETA: 1s - loss: -111.1237"
     ]
    },
    {
     "name": "stdout",
     "output_type": "stream",
     "text": [
      "50/50 [==============================] - 3s 53ms/step - loss: -137.3158 - val_loss: -26.7512\n",
      "Epoch 2/25\n",
      "50/50 [==============================] - 3s 52ms/step - loss: -73.0274 - val_loss: -10.9665\n",
      "Epoch 3/25\n",
      "50/50 [==============================] - 3s 52ms/step - loss: -77.4985 - val_loss: -102.9645\n",
      "Epoch 4/25\n",
      "50/50 [==============================] - 3s 52ms/step - loss: -104.4403 - val_loss: -52.4184\n",
      "Epoch 5/25\n",
      "50/50 [==============================] - 3s 51ms/step - loss: -115.8317 - val_loss: -54.0908\n",
      "Epoch 6/25\n",
      "50/50 [==============================] - 3s 52ms/step - loss: -125.9215 - val_loss: 1.2781\n",
      "Epoch 7/25\n",
      "50/50 [==============================] - 3s 53ms/step - loss: -165.2285 - val_loss: 131.7540\n",
      "Epoch 8/25\n",
      "50/50 [==============================] - 3s 54ms/step - loss: -106.0172 - val_loss: -118.4917\n",
      "Epoch 9/25\n",
      "50/50 [==============================] - 3s 53ms/step - loss: -142.6218 - val_loss: -107.7680\n",
      "Epoch 10/25\n",
      "50/50 [==============================] - 3s 53ms/step - loss: -139.8761 - val_loss: -91.9436\n",
      "Epoch 11/25\n",
      "50/50 [==============================] - 3s 52ms/step - loss: -179.6019 - val_loss: -40.1357\n",
      "Epoch 12/25\n",
      "50/50 [==============================] - 3s 52ms/step - loss: -176.7300 - val_loss: -127.9938\n",
      "Epoch 13/25\n",
      "50/50 [==============================] - 3s 52ms/step - loss: -168.3209 - val_loss: -127.2419\n",
      "Epoch 14/25\n",
      "50/50 [==============================] - 3s 54ms/step - loss: -176.7486 - val_loss: -142.4413\n",
      "Epoch 15/25\n",
      "50/50 [==============================] - 3s 52ms/step - loss: -191.2404 - val_loss: -80.3075\n"
     ]
    },
    {
     "name": "stderr",
     "output_type": "stream",
     "text": [
      "Exception ignored in: <bound method IPythonKernel._clean_thread_parent_frames of <ipykernel.ipkernel.IPythonKernel object at 0x7f0a81aa0580>>\n",
      "Traceback (most recent call last):\n",
      "  File \"/home/daq/venv/lib64/python3.9/site-packages/ipykernel/ipkernel.py\", line 775, in _clean_thread_parent_frames\n",
      "    def _clean_thread_parent_frames(\n",
      "KeyboardInterrupt: \n"
     ]
    },
    {
     "name": "stdout",
     "output_type": "stream",
     "text": [
      "Epoch 16/25\n",
      "50/50 [==============================] - 3s 54ms/step - loss: -185.9303 - val_loss: -105.6461\n",
      "Epoch 17/25\n",
      "50/50 [==============================] - 3s 53ms/step - loss: -213.1502 - val_loss: -115.3735\n",
      "Epoch 18/25\n",
      "50/50 [==============================] - 3s 52ms/step - loss: -184.8320 - val_loss: -120.2077\n",
      "Epoch 19/25\n",
      "50/50 [==============================] - 3s 53ms/step - loss: -214.2647 - val_loss: -160.7336\n",
      "Epoch 20/25\n",
      "50/50 [==============================] - 3s 52ms/step - loss: -201.7005 - val_loss: -42.2464\n",
      "Epoch 21/25\n",
      "50/50 [==============================] - 3s 54ms/step - loss: -150.7474 - val_loss: -84.7140\n",
      "Epoch 22/25\n",
      "50/50 [==============================] - 3s 52ms/step - loss: -209.5793 - val_loss: -135.9467\n",
      "Epoch 23/25\n",
      "50/50 [==============================] - 3s 52ms/step - loss: -225.7320 - val_loss: -180.1880\n",
      "Epoch 24/25\n",
      "50/50 [==============================] - 3s 52ms/step - loss: -240.4271 - val_loss: -166.2234\n",
      "Epoch 25/25\n",
      "50/50 [==============================] - 3s 52ms/step - loss: -263.2720 - val_loss: -174.5804\n"
     ]
    }
   ],
   "source": [
    "epochs = 25\n",
    "early_stopping_patience = 50\n",
    "\n",
    "# launch quick training once gpu is available\n",
    "es = EarlyStopping(\n",
    "        patience=early_stopping_patience,\n",
    "        restore_best_weights=True\n",
    ")\n",
    "    \n",
    "# checkpoint path\n",
    "checkpoint_filepath = Path(output_directory, 'weights.{epoch:02d}-t{loss:.2f}-v{val_loss:.2f}.hdf5').resolve()\n",
    "mcp = tf.keras.callbacks.ModelCheckpoint(\n",
    "        filepath=checkpoint_filepath,\n",
    "        save_weights_only=True,\n",
    "        monitor='val_loss',\n",
    "        save_best_only=True,\n",
    ")\n",
    "\n",
    "# train\n",
    "history = model.fit(x=training_generator,\n",
    "                        validation_data=validation_generator,\n",
    "                        callbacks=[mcp],\n",
    "                        epochs=epochs,\n",
    "                        shuffle=False, # shuffling now occurs within the data-loader\n",
    "                        verbose=1)\n",
    "    \n",
    "# clean up tf records\n",
    "#shutil.rmtree(tfrecords_dir_train)\n",
    "#shutil.rmtree(tfrecords_dir_validation)"
   ]
  },
  {
   "cell_type": "code",
   "execution_count": 14,
   "metadata": {},
   "outputs": [],
   "source": [
    "model.load_weights(\"/home/elizahoward/smart-pixels-ml/training_output/weights.08-t-12.89-v-49.49.hdf5\")"
   ]
  },
  {
   "cell_type": "code",
   "execution_count": 8,
   "metadata": {},
   "outputs": [
    {
     "name": "stdout",
     "output_type": "stream",
     "text": [
      "11/11 [==============================] - 1s 54ms/step\n"
     ]
    }
   ],
   "source": [
    "p_test = model.predict(validation_generator)"
   ]
  },
  {
   "cell_type": "code",
   "execution_count": 9,
   "metadata": {},
   "outputs": [
    {
     "name": "stderr",
     "output_type": "stream",
     "text": [
      "100%|██████████| 11/11 [00:00<00:00, 30.29it/s]\n"
     ]
    }
   ],
   "source": [
    "complete_truth = None\n",
    "for _, y in tqdm(validation_generator):\n",
    "        if complete_truth is None:\n",
    "            complete_truth = y\n",
    "        else:\n",
    "            complete_truth = np.concatenate((complete_truth, y), axis=0)"
   ]
  },
  {
   "cell_type": "code",
   "execution_count": 10,
   "metadata": {},
   "outputs": [],
   "source": [
    "maxval=1e9\n",
    "minval=1e-9\n",
    "\n",
    "# creates df with all predicted values and matrix elements - 4 predictions, all 10 unique matrix elements\n",
    "df = pd.DataFrame(p_test,columns=['x','M11','y','M22','cotA','M33','cotB','M44','M21','M31','M32','M41','M42','M43'])\n",
    "df['x'] *= 75\n",
    "df['y'] *= 18.75\n",
    "df['cotA'] *= 8\n",
    "df['cotB'] *= 0.5\n",
    "\n",
    "# stores all true values in same matrix as xtrue, ytrue, etc.\n",
    "df['xtrue'] = complete_truth[:,0]*75\n",
    "df['ytrue'] = complete_truth[:,1]*18.75\n",
    "df['cotAtrue'] = complete_truth[:,2]*8\n",
    "df['cotBtrue'] = complete_truth[:,3]*0.5\n",
    "df['M11'] = minval+tf.math.maximum(df['M11'], 0)\n",
    "df['M22'] = minval+tf.math.maximum(df['M22'], 0)\n",
    "df['M33'] = minval+tf.math.maximum(df['M33'], 0)\n",
    "df['M44'] = minval+tf.math.maximum(df['M44'], 0)\n",
    "\n",
    "df['sigmax'] = abs(df['M11'])\n",
    "df['sigmay'] = np.sqrt(df['M21']**2 + df['M22']**2)\n",
    "df['sigmacotA'] = np.sqrt(df['M31']**2+df['M32']**2+df['M33']**2)\n",
    "df['sigmacotB'] = np.sqrt(df['M41']**2+df['M42']**2+df['M43']**2+df['M44']**2)\n",
    "\n",
    "# calculates residuals for x, y, cotA, cotB\n",
    "residualsx = df['xtrue'] - df['x']\n",
    "residualsy = df['ytrue'] - df['y']\n",
    "residualsA = df['cotAtrue'] - df['cotA']\n",
    "residualsB = df['cotBtrue'] - df['cotB']\n",
    "\n",
    "# stores results as csv\n",
    "df.to_csv(\"test_4x4.csv\",header=True,index=False)"
   ]
  },
  {
   "cell_type": "code",
   "execution_count": 11,
   "metadata": {},
   "outputs": [
    {
     "name": "stdout",
     "output_type": "stream",
     "text": [
      "mean and std residuals for x-midplane: (-6.609682083129883,35.302345275878906)\n",
      "mean and std residuals for y-midplane: (1.0781899690628052,4.060354232788086)\n",
      "mean and std residuals for cot(alpha): (0.1436063051223755,2.725712299346924)\n",
      "mean and std residuals for cot(beta): (0.027394378557801247,0.11262314766645432)\n"
     ]
    }
   ],
   "source": [
    "# x\n",
    "xmean, xstd = (np.mean(residualsx),np.std(residualsx))\n",
    "print(f\"mean and std residuals for x-midplane: ({xmean},{xstd})\")\n",
    "# y\n",
    "ymean, ystd = (np.mean(residualsy),np.std(residualsy))\n",
    "print(f\"mean and std residuals for y-midplane: ({ymean},{ystd})\")\n",
    "# cotA\n",
    "cotAmean, cotAstd = (np.mean(residualsA),np.std(residualsA))\n",
    "print(f\"mean and std residuals for cot(alpha): ({cotAmean},{cotAstd})\")\n",
    "# cotB\n",
    "cotBmean, cotBstd = (np.mean(residualsB),np.std(residualsB))\n",
    "print(f\"mean and std residuals for cot(beta): ({cotBmean},{cotBstd})\")\n"
   ]
  },
  {
   "cell_type": "code",
   "execution_count": 21,
   "metadata": {},
   "outputs": [
    {
     "data": {
      "image/png": "[encoded data removed]",
      "text/plain": [
       "<Figure size 640x480 with 1 Axes>"
      ]
     },
     "metadata": {},
     "output_type": "display_data"
    }
   ],
   "source": [
    "plt.hist(p_test[:,0],bins=np.linspace(-2,2,50))\n",
    "plt.yscale('log')\n",
    "plt.xlabel(r'$x$ [um]')\n",
    "\n",
    "#save_fig_path = os.path.join(base_dir, 'x_dist.png')\n",
    "#plt.savefig(save_fig_path)\n",
    "\n",
    "plt.show()"
   ]
  },
  {
   "cell_type": "code",
   "execution_count": 22,
   "metadata": {},
   "outputs": [
    {
     "data": {
      "image/png": "[encoded data removed]",
      "text/plain": [
       "<Figure size 640x480 with 1 Axes>"
      ]
     },
     "metadata": {},
     "output_type": "display_data"
    }
   ],
   "source": [
    "plt.hist(residuals,bins=np.linspace(-1,1,50))\n",
    "#plt.yscale('Log')\n",
    "plt.xlabel(r'$x-\\mu_x$ [um]')\n",
    "\n",
    "#save_fig_path = os.path.join(base_dir, 'x_res_dist.png')\n",
    "#plt.savefig(save_fig_path)\n",
    "\n",
    "plt.show()"
   ]
  },
  {
   "cell_type": "code",
   "execution_count": 26,
   "metadata": {},
   "outputs": [
    {
     "data": {
      "image/png": "[encoded data removed]",
      "text/plain": [
       "<Figure size 640x480 with 1 Axes>"
      ]
     },
     "metadata": {},
     "output_type": "display_data"
    }
   ],
   "source": [
    "x = sns.regplot(x=df['xtrue'], y=(df['xtrue']-df['x']), x_bins=np.linspace(-75,75,50), fit_reg=None, marker='.')\n",
    "plt.xlabel(r'True $x$ [um]')\n",
    "plt.ylabel(r'$x-\\mu_x$ [um]')\n",
    "\n",
    "#save_fig_path = os.path.join(base_dir, 'x_vs_res.png')\n",
    "#plt.savefig(save_fig_path)\n",
    "\n",
    "plt.show()"
   ]
  },
  {
   "cell_type": "code",
   "execution_count": 25,
   "metadata": {},
   "outputs": [
    {
     "data": {
      "text/plain": [
       "-74.98991394042969"
      ]
     },
     "execution_count": 25,
     "metadata": {},
     "output_type": "execute_result"
    }
   ],
   "source": [
    "min(df['xtrue'])"
   ]
  },
  {
   "cell_type": "code",
   "execution_count": 14,
   "metadata": {},
   "outputs": [
    {
     "data": {
      "text/plain": [
       "array([-1.        , -0.95918367, -0.91836735, -0.87755102, -0.83673469,\n",
       "       -0.79591837, -0.75510204, -0.71428571, -0.67346939, -0.63265306,\n",
       "       -0.59183673, -0.55102041, -0.51020408, -0.46938776, -0.42857143,\n",
       "       -0.3877551 , -0.34693878, -0.30612245, -0.26530612, -0.2244898 ,\n",
       "       -0.18367347, -0.14285714, -0.10204082, -0.06122449, -0.02040816,\n",
       "        0.02040816,  0.06122449,  0.10204082,  0.14285714,  0.18367347,\n",
       "        0.2244898 ,  0.26530612,  0.30612245,  0.34693878,  0.3877551 ,\n",
       "        0.42857143,  0.46938776,  0.51020408,  0.55102041,  0.59183673,\n",
       "        0.63265306,  0.67346939,  0.71428571,  0.75510204,  0.79591837,\n",
       "        0.83673469,  0.87755102,  0.91836735,  0.95918367,  1.        ])"
      ]
     },
     "execution_count": 14,
     "metadata": {},
     "output_type": "execute_result"
    }
   ],
   "source": [
    "np.linspace(-1,1,50)"
   ]
  },
  {
   "cell_type": "code",
   "execution_count": 9,
   "metadata": {},
   "outputs": [
    {
     "data": {
      "text/plain": [
       "0       1.953401e-06\n",
       "1      -1.147367e-06\n",
       "2       6.652156e-06\n",
       "3      -3.238392e-07\n",
       "4      -2.245828e-06\n",
       "            ...     \n",
       "8552    4.094036e-07\n",
       "8553   -1.305013e-06\n",
       "8554    3.859511e-07\n",
       "8555   -1.912578e-07\n",
       "8556    5.552644e-09\n",
       "Name: xtrue, Length: 8557, dtype: float32"
      ]
     },
     "execution_count": 9,
     "metadata": {},
     "output_type": "execute_result"
    }
   ],
   "source": [
    "df['xtrue']"
   ]
  },
  {
   "cell_type": "code",
   "execution_count": 10,
   "metadata": {},
   "outputs": [
    {
     "data": {
      "text/plain": [
       "0       0.096313\n",
       "1      -0.005310\n",
       "2       0.018250\n",
       "3       0.063293\n",
       "4       0.045288\n",
       "          ...   \n",
       "8552    0.069336\n",
       "8553    0.022278\n",
       "8554    0.065857\n",
       "8555    0.071167\n",
       "8556    0.081055\n",
       "Name: x, Length: 8557, dtype: float32"
      ]
     },
     "execution_count": 10,
     "metadata": {},
     "output_type": "execute_result"
    }
   ],
   "source": [
    "df['x']"
   ]
  },
  {
   "cell_type": "code",
   "execution_count": 3,
   "metadata": {},
   "outputs": [
    {
     "data": {
      "text/plain": [
       "<tf.Tensor: shape=(500, 4), dtype=float32, numpy=\n",
       "array([[ 1.9534011e-06,  3.1854577e-06, -5.2159536e-01,  3.7237611e-02],\n",
       "       [-1.1473669e-06, -1.5861623e-06,  5.2710271e-01, -1.5139881e-01],\n",
       "       [ 6.6521561e-06, -2.1257800e-07,  6.6928500e-01,  2.1744016e-01],\n",
       "       ...,\n",
       "       [-1.2793189e-06,  1.2136934e-07, -8.4981728e-01,  4.7479909e-02],\n",
       "       [ 1.0449221e-06,  6.7087751e-07,  1.0046810e+00, -8.0120504e-02],\n",
       "       [ 1.1644505e-05, -3.8532557e-06,  1.0196804e+00, -4.8853710e-01]],\n",
       "      dtype=float32)>"
      ]
     },
     "execution_count": 3,
     "metadata": {},
     "output_type": "execute_result"
    }
   ],
   "source": []
  },
  {
   "cell_type": "code",
   "execution_count": null,
   "metadata": {},
   "outputs": [],
   "source": []
  }
 ],
 "metadata": {
  "kernelspec": {
   "display_name": "venv",
   "language": "python",
   "name": "venv"
  },
  "language_info": {
   "codemirror_mode": {
    "name": "ipython",
    "version": 3
   },
   "file_extension": ".py",
   "mimetype": "text/x-python",
   "name": "python",
   "nbconvert_exporter": "python",
   "pygments_lexer": "ipython3",
   "version": "3.9.18"
  }
 },
 "nbformat": 4,
 "nbformat_minor": 2
}
